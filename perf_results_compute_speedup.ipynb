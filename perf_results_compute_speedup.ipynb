{
 "cells": [
  {
   "cell_type": "code",
   "execution_count": null,
   "id": "c67e9506-bb27-4633-bfd4-3c6b31447dec",
   "metadata": {},
   "outputs": [],
   "source": []
  },
  {
   "cell_type": "code",
   "execution_count": 1,
   "id": "e1087423-0e8b-4053-9d50-a59a6f31c431",
   "metadata": {},
   "outputs": [],
   "source": [
    "# perf_files = [\n",
    "#     \"output/20230313-133243-pr.pkl\",\n",
    "#     \"output/20230313-134520-nightly.pkl\",\n",
    "# ]\n",
    "\n",
    "perf_files = [\n",
    "    \"output/20230313-133243-pr.pkl\",\n",
    "    \"output/20230315-011856-pr.pkl\",\n",
    "]"
   ]
  },
  {
   "cell_type": "code",
   "execution_count": 2,
   "id": "21bc141f-9dd8-412b-969c-3614e9c8151f",
   "metadata": {},
   "outputs": [
    {
     "name": "stderr",
     "output_type": "stream",
     "text": [
      "No CUDA runtime is found, using CUDA_HOME='/opt/conda'\n"
     ]
    }
   ],
   "source": [
    "import pickle\n",
    "from pathlib import Path\n",
    "import torch\n",
    "import torch.utils.benchmark as benchmark\n",
    "\n",
    "ab_results = []\n",
    "for perf_filepath in perf_files:\n",
    "    assert Path(perf_filepath).exists(), f\"{perf_filepath} is not found\"\n",
    "    with open(perf_filepath, \"rb\") as handler:\n",
    "        output = pickle.load(handler)\n",
    "        ab_results.extend(output[\"test_results\"])\n",
    "\n",
    "    \n",
    "compare = benchmark.Compare(ab_results)"
   ]
  },
  {
   "cell_type": "code",
   "execution_count": 3,
   "id": "3564c532-5dad-4700-9967-5ba5941eb982",
   "metadata": {},
   "outputs": [
    {
     "name": "stdout",
     "output_type": "stream",
     "text": [
      "[------------------------------------------------------------------------- Resize -------------------------------------------------------------------------]\n",
      "                                                                 |  Pillow (9.0.0.post1)  |  torch (2.1.0a0+git1d3a939) PR  |  torch (2.1.0a0+git0c58e8a) PR\n",
      "1 threads: -------------------------------------------------------------------------------------------------------------------------------------------------\n",
      "      3 torch.uint8 channels_last bilinear 256 -> 32 aa=True     |          38.3          |                56.3             |                58.3           \n",
      "      3 torch.uint8 channels_last bilinear 256 -> 32 aa=False    |                        |                36.2             |                39.5           \n",
      "      3 torch.uint8 channels_last bilinear 256 -> 224 aa=True    |         127.6          |               149.9             |               159.8           \n",
      "      3 torch.uint8 channels_last bilinear 256 -> 224 aa=False   |                        |               134.2             |               147.4           \n",
      "      3 torch.uint8 channels_last bilinear 256 -> 320 aa=True    |         178.3          |               200.3             |               217.4           \n",
      "      3 torch.uint8 channels_last bilinear 256 -> 320 aa=False   |                        |               198.0             |               215.3           \n",
      "      3 torch.uint8 channels_last bilinear 520 -> 32 aa=True     |         113.2          |               129.3             |               134.0           \n",
      "      3 torch.uint8 channels_last bilinear 520 -> 32 aa=False    |                        |                54.9             |                59.2           \n",
      "      3 torch.uint8 channels_last bilinear 520 -> 224 aa=True    |         281.4          |               324.8             |               329.7           \n",
      "      3 torch.uint8 channels_last bilinear 520 -> 224 aa=False   |                        |               211.9             |               240.7           \n",
      "      3 torch.uint8 channels_last bilinear 712 -> 32 aa=True     |         185.1          |               201.1             |               207.0           \n",
      "      3 torch.uint8 channels_last bilinear 712 -> 32 aa=False    |                        |                72.1             |                78.0           \n",
      "      3 torch.uint8 channels_last bilinear 712 -> 224 aa=True    |         409.0          |               436.7             |               450.5           \n",
      "      3 torch.uint8 channels_last bilinear 712 -> 224 aa=False   |                        |               268.8             |               312.5           \n",
      "      4 torch.uint8 channels_last bilinear 256 -> 32 aa=True     |                        |                53.5             |                54.5           \n",
      "      4 torch.uint8 channels_last bilinear 256 -> 32 aa=False    |                        |                34.8             |                36.9           \n",
      "      4 torch.uint8 channels_last bilinear 256 -> 224 aa=True    |                        |               142.8             |               148.9           \n",
      "      4 torch.uint8 channels_last bilinear 256 -> 224 aa=False   |                        |               127.5             |               136.2           \n",
      "      4 torch.uint8 channels_last bilinear 256 -> 320 aa=True    |                        |               190.8             |               202.0           \n",
      "      4 torch.uint8 channels_last bilinear 256 -> 320 aa=False   |                        |               188.9             |               199.7           \n",
      "      4 torch.uint8 channels_last bilinear 520 -> 32 aa=True     |                        |               124.6             |               126.8           \n",
      "      4 torch.uint8 channels_last bilinear 520 -> 32 aa=False    |                        |                55.9             |                58.6           \n",
      "      4 torch.uint8 channels_last bilinear 520 -> 224 aa=True    |                        |               289.7             |               290.3           \n",
      "      4 torch.uint8 channels_last bilinear 520 -> 224 aa=False   |                        |               200.1             |               217.5           \n",
      "      4 torch.uint8 channels_last bilinear 712 -> 32 aa=True     |                        |               193.8             |               197.8           \n",
      "      4 torch.uint8 channels_last bilinear 712 -> 32 aa=False    |                        |                72.9             |                76.0           \n",
      "      4 torch.uint8 channels_last bilinear 712 -> 224 aa=True    |                        |               422.5             |               426.1           \n",
      "      4 torch.uint8 channels_last bilinear 712 -> 224 aa=False   |                        |               253.3             |               277.3           \n",
      "      3 torch.uint8 channels_first bilinear 256 -> 32 aa=True    |          37.9          |               131.0             |               131.1           \n",
      "      3 torch.uint8 channels_first bilinear 256 -> 32 aa=False   |                        |               112.6             |               113.5           \n",
      "      3 torch.uint8 channels_first bilinear 256 -> 224 aa=True   |         127.9          |               295.3             |               299.8           \n",
      "      3 torch.uint8 channels_first bilinear 256 -> 224 aa=False  |                        |               280.2             |               288.2           \n",
      "      3 torch.uint8 channels_first bilinear 256 -> 320 aa=True   |         178.6          |               422.9             |               434.1           \n",
      "      3 torch.uint8 channels_first bilinear 256 -> 320 aa=False  |                        |               420.1             |               432.8           \n",
      "      3 torch.uint8 channels_first bilinear 520 -> 32 aa=True    |         113.5          |               433.2             |               438.8           \n",
      "      3 torch.uint8 channels_first bilinear 520 -> 32 aa=False   |                        |               364.7             |               368.5           \n",
      "      3 torch.uint8 channels_first bilinear 520 -> 224 aa=True   |         282.3          |               674.1             |               674.2           \n",
      "      3 torch.uint8 channels_first bilinear 520 -> 224 aa=False  |                        |               584.8             |               602.0           \n",
      "      3 torch.uint8 channels_first bilinear 712 -> 32 aa=True    |         185.1          |               771.0             |               942.8           \n",
      "      3 torch.uint8 channels_first bilinear 712 -> 32 aa=False   |                        |               652.6             |               653.1           \n",
      "      3 torch.uint8 channels_first bilinear 712 -> 224 aa=True   |         408.5          |              1076.5             |              1083.0           \n",
      "      3 torch.uint8 channels_first bilinear 712 -> 224 aa=False  |                        |               905.9             |               930.6           \n",
      "      4 torch.uint8 channels_first bilinear 256 -> 32 aa=True    |                        |                72.9             |                73.0           \n",
      "      4 torch.uint8 channels_first bilinear 256 -> 32 aa=False   |                        |                54.1             |                55.7           \n",
      "      4 torch.uint8 channels_first bilinear 256 -> 224 aa=True   |                        |               250.8             |               257.0           \n",
      "      4 torch.uint8 channels_first bilinear 256 -> 224 aa=False  |                        |               235.7             |               243.9           \n",
      "      4 torch.uint8 channels_first bilinear 256 -> 320 aa=True   |                        |               393.3             |               408.0           \n",
      "      4 torch.uint8 channels_first bilinear 256 -> 320 aa=False  |                        |               390.0             |               404.8           \n",
      "      4 torch.uint8 channels_first bilinear 520 -> 32 aa=True    |                        |               193.0             |               194.6           \n",
      "      4 torch.uint8 channels_first bilinear 520 -> 32 aa=False   |                        |               124.0             |               126.8           \n",
      "      4 torch.uint8 channels_first bilinear 520 -> 224 aa=True   |                        |               446.3             |               447.2           \n",
      "      4 torch.uint8 channels_first bilinear 520 -> 224 aa=False  |                        |               356.2             |               375.1           \n",
      "      4 torch.uint8 channels_first bilinear 712 -> 32 aa=True    |                        |               321.5             |               320.2           \n",
      "      4 torch.uint8 channels_first bilinear 712 -> 32 aa=False   |                        |               198.8             |               347.9           \n",
      "      4 torch.uint8 channels_first bilinear 712 -> 224 aa=True   |                        |               637.6             |               788.2           \n",
      "      4 torch.uint8 channels_first bilinear 712 -> 224 aa=False  |                        |               466.5             |               492.2           \n",
      "\n",
      "Times are in microseconds (us).\n",
      "\n"
     ]
    }
   ],
   "source": [
    "# compare.colorize()\n",
    "compare.print()"
   ]
  },
  {
   "cell_type": "code",
   "execution_count": 4,
   "id": "37bb16d7-b6a9-43c8-a6ec-c4038acaa3de",
   "metadata": {},
   "outputs": [],
   "source": [
    "from torch.utils.benchmark.utils import common"
   ]
  },
  {
   "cell_type": "code",
   "execution_count": 5,
   "id": "967377db-5b9b-48ac-8566-379b5829ec63",
   "metadata": {},
   "outputs": [],
   "source": [
    "results = common.Measurement.merge(compare._results)"
   ]
  },
  {
   "cell_type": "code",
   "execution_count": 6,
   "id": "8a77b721-fad8-419b-9a01-dcc218feac0f",
   "metadata": {},
   "outputs": [],
   "source": [
    "grouped_results = compare._group_by_label(results)"
   ]
  },
  {
   "cell_type": "code",
   "execution_count": 7,
   "id": "8e3439c5-7a3e-4703-8507-11e112c261e2",
   "metadata": {},
   "outputs": [],
   "source": [
    "# compare._render??\n",
    "groups_iter = iter(grouped_results.values())\n",
    "group = next(groups_iter)"
   ]
  },
  {
   "cell_type": "code",
   "execution_count": 9,
   "id": "cd16b0c4-87d5-4565-b9fb-182d971c3e51",
   "metadata": {},
   "outputs": [],
   "source": [
    "c1 = \"torch (2.1.0a0+git1d3a939) PR\"\n",
    "c2 = \"torch (2.1.0a0+git0c58e8a) PR\"\n",
    "# description = f\"Speed-up: {c1} vs {c2}\"\n",
    "description = f\"Speed-up: PR 1 vs PR 2\""
   ]
  },
  {
   "cell_type": "code",
   "execution_count": 10,
   "id": "96d1cd59-4b2b-4c10-98a2-3c4571e91af0",
   "metadata": {},
   "outputs": [],
   "source": [
    "class Value(common.Measurement): pass\n",
    "#     @property\n",
    "#     def times(self):\n",
    "#         assert len(self.raw_times) == 1, self.raw_times\n",
    "#         return self.raw_times[0]\n",
    "    \n",
    "#     def _lazy_init(self):\n",
    "#         pass"
   ]
  },
  {
   "cell_type": "code",
   "execution_count": 11,
   "id": "edda9082-acba-40f9-8d05-728e87863488",
   "metadata": {},
   "outputs": [],
   "source": [
    "# for measurement in group:\n",
    "#     print(measurement.task_spec.description, measurement.task_spec.sub_label)"
   ]
  },
  {
   "cell_type": "code",
   "execution_count": 12,
   "id": "761d5686-f46d-48e3-b585-517c2d20343f",
   "metadata": {},
   "outputs": [],
   "source": [
    "updated_group = []\n",
    "\n",
    "sub_label = None\n",
    "v1 = None\n",
    "v2 = None\n",
    "r = None\n",
    "\n",
    "_, scale = common.select_unit(min([r.median for r in group]))\n",
    "\n",
    "for measurement in group:\n",
    "    # print(measurement.task_spec.description)\n",
    "        \n",
    "    if measurement.task_spec.description == c1:\n",
    "        v1 = measurement.median\n",
    "        sub_label = measurement.task_spec.sub_label\n",
    "        # print(c1, v1, sub_label)\n",
    "\n",
    "    measurement2 = None\n",
    "    for m2 in group:\n",
    "        d2 = m2.task_spec.description\n",
    "        sl2 = m2.task_spec.sub_label\n",
    "        if d2 == c2 and sl2 == sub_label:\n",
    "            v2 = m2.median\n",
    "            # print(c2, v2)\n",
    "            measurement2 = m2            \n",
    "            break\n",
    "    \n",
    "    if measurement not in updated_group:\n",
    "        updated_group.append(measurement)\n",
    "    if v1 is not None and v2 is not None:\n",
    "        if measurement2 not in updated_group:\n",
    "            updated_group.append(measurement2)\n",
    "        r = v2 / v1 * scale\n",
    "        # print(\"->\", r)\n",
    "        v1 = None\n",
    "        v2 = None\n",
    "        sub_label = None\n",
    "        speedup_task = common.TaskSpec(\n",
    "            \"\", \n",
    "            setup=\"\", \n",
    "            label=measurement.label,\n",
    "            sub_label=measurement.sub_label,\n",
    "            num_threads=measurement.num_threads,\n",
    "            env=measurement.env,\n",
    "            description=description\n",
    "        )\n",
    "        speedup_measurement = Value(1, [r, ], speedup_task)\n",
    "        r = None\n",
    "        updated_group.append(speedup_measurement)"
   ]
  },
  {
   "cell_type": "code",
   "execution_count": 13,
   "id": "9e08171c-2992-4b7e-82b7-96b40cc63470",
   "metadata": {},
   "outputs": [],
   "source": [
    "from torch.utils.benchmark.utils.compare import Table\n",
    "\n",
    "\n",
    "class CustomizedTable(Table):\n",
    "    \n",
    "    def __init__(self, results, colorize, trim_significant_figures, highlight_warnings):\n",
    "        assert len(set(r.label for r in results)) == 1\n",
    "\n",
    "        self.results = results\n",
    "        self._colorize = colorize\n",
    "        self._trim_significant_figures = trim_significant_figures\n",
    "        self._highlight_warnings = highlight_warnings\n",
    "        self.label = results[0].label\n",
    "        self.time_unit, self.time_scale = common.select_unit(\n",
    "            min(r.median for r in results if not isinstance(r, Value))\n",
    "        )\n",
    "\n",
    "        self.row_keys = common.ordered_unique([self.row_fn(i) for i in results])\n",
    "        self.row_keys.sort(key=lambda args: args[:2])  # preserve stmt order\n",
    "        self.column_keys = common.ordered_unique([self.col_fn(i) for i in results])\n",
    "        self.rows, self.columns = self.populate_rows_and_columns()"
   ]
  },
  {
   "cell_type": "code",
   "execution_count": 14,
   "id": "0d712258-c4e3-4342-a66f-4f6aea821c15",
   "metadata": {},
   "outputs": [
    {
     "name": "stdout",
     "output_type": "stream",
     "text": [
      "[--------------------------------------------------------------------------------------- Resize --------------------------------------------------------------------------------------]\n",
      "                                                                 |  Pillow (9.0.0.post1)  |  torch (2.1.0a0+git1d3a939) PR  |  torch (2.1.0a0+git0c58e8a) PR  |  Speed-up: PR 1 vs PR 2\n",
      "1 threads: ----------------------------------------------------------------------------------------------------------------------------------------------------------------------------\n",
      "      3 torch.uint8 channels_last bilinear 256 -> 32 aa=True     |          38.3          |                56.3             |                58.3             |           1.0          \n",
      "      3 torch.uint8 channels_last bilinear 256 -> 32 aa=False    |                        |                36.2             |                39.5             |           1.1          \n",
      "      3 torch.uint8 channels_last bilinear 256 -> 224 aa=True    |         127.6          |               149.9             |               159.8             |           1.1          \n",
      "      3 torch.uint8 channels_last bilinear 256 -> 224 aa=False   |                        |               134.2             |               147.4             |           1.1          \n",
      "      3 torch.uint8 channels_last bilinear 256 -> 320 aa=True    |         178.3          |               200.3             |               217.4             |           1.1          \n",
      "      3 torch.uint8 channels_last bilinear 256 -> 320 aa=False   |                        |               198.0             |               215.3             |           1.1          \n",
      "      3 torch.uint8 channels_last bilinear 520 -> 32 aa=True     |         113.2          |               129.3             |               134.0             |           1.0          \n",
      "      3 torch.uint8 channels_last bilinear 520 -> 32 aa=False    |                        |                54.9             |                59.2             |           1.1          \n",
      "      3 torch.uint8 channels_last bilinear 520 -> 224 aa=True    |         281.4          |               324.8             |               329.7             |           1.0          \n",
      "      3 torch.uint8 channels_last bilinear 520 -> 224 aa=False   |                        |               211.9             |               240.7             |           1.1          \n",
      "      3 torch.uint8 channels_last bilinear 712 -> 32 aa=True     |         185.1          |               201.1             |               207.0             |           1.0          \n",
      "      3 torch.uint8 channels_last bilinear 712 -> 32 aa=False    |                        |                72.1             |                78.0             |           1.1          \n",
      "      3 torch.uint8 channels_last bilinear 712 -> 224 aa=True    |         409.0          |               436.7             |               450.5             |           1.0          \n",
      "      3 torch.uint8 channels_last bilinear 712 -> 224 aa=False   |                        |               268.8             |               312.5             |           1.2          \n",
      "      4 torch.uint8 channels_last bilinear 256 -> 32 aa=True     |                        |                53.5             |                54.5             |           1.0          \n",
      "      4 torch.uint8 channels_last bilinear 256 -> 32 aa=False    |                        |                34.8             |                36.9             |           1.1          \n",
      "      4 torch.uint8 channels_last bilinear 256 -> 224 aa=True    |                        |               142.8             |               148.9             |           1.0          \n",
      "      4 torch.uint8 channels_last bilinear 256 -> 224 aa=False   |                        |               127.5             |               136.2             |           1.1          \n",
      "      4 torch.uint8 channels_last bilinear 256 -> 320 aa=True    |                        |               190.8             |               202.0             |           1.1          \n",
      "      4 torch.uint8 channels_last bilinear 256 -> 320 aa=False   |                        |               188.9             |               199.7             |           1.1          \n",
      "      4 torch.uint8 channels_last bilinear 520 -> 32 aa=True     |                        |               124.6             |               126.8             |           1.0          \n",
      "      4 torch.uint8 channels_last bilinear 520 -> 32 aa=False    |                        |                55.9             |                58.6             |           1.0          \n",
      "      4 torch.uint8 channels_last bilinear 520 -> 224 aa=True    |                        |               289.7             |               290.3             |           1.0          \n",
      "      4 torch.uint8 channels_last bilinear 520 -> 224 aa=False   |                        |               200.1             |               217.5             |           1.1          \n",
      "      4 torch.uint8 channels_last bilinear 712 -> 32 aa=True     |                        |               193.8             |               197.8             |           1.0          \n",
      "      4 torch.uint8 channels_last bilinear 712 -> 32 aa=False    |                        |                72.9             |                76.0             |           1.0          \n",
      "      4 torch.uint8 channels_last bilinear 712 -> 224 aa=True    |                        |               422.5             |               426.1             |           1.0          \n",
      "      4 torch.uint8 channels_last bilinear 712 -> 224 aa=False   |                        |               253.3             |               277.3             |           1.1          \n",
      "      3 torch.uint8 channels_first bilinear 256 -> 32 aa=True    |          37.9          |               131.0             |               131.1             |           1.0          \n",
      "      3 torch.uint8 channels_first bilinear 256 -> 32 aa=False   |                        |               112.6             |               113.5             |           1.0          \n",
      "      3 torch.uint8 channels_first bilinear 256 -> 224 aa=True   |         127.9          |               295.3             |               299.8             |           1.0          \n",
      "      3 torch.uint8 channels_first bilinear 256 -> 224 aa=False  |                        |               280.2             |               288.2             |           1.0          \n",
      "      3 torch.uint8 channels_first bilinear 256 -> 320 aa=True   |         178.6          |               422.9             |               434.1             |           1.0          \n",
      "      3 torch.uint8 channels_first bilinear 256 -> 320 aa=False  |                        |               420.1             |               432.8             |           1.0          \n",
      "      3 torch.uint8 channels_first bilinear 520 -> 32 aa=True    |         113.5          |               433.2             |               438.8             |           1.0          \n",
      "      3 torch.uint8 channels_first bilinear 520 -> 32 aa=False   |                        |               364.7             |               368.5             |           1.0          \n",
      "      3 torch.uint8 channels_first bilinear 520 -> 224 aa=True   |         282.3          |               674.1             |               674.2             |           1.0          \n",
      "      3 torch.uint8 channels_first bilinear 520 -> 224 aa=False  |                        |               584.8             |               602.0             |           1.0          \n",
      "      3 torch.uint8 channels_first bilinear 712 -> 32 aa=True    |         185.1          |               771.0             |               942.8             |           1.2          \n",
      "      3 torch.uint8 channels_first bilinear 712 -> 32 aa=False   |                        |               652.6             |               653.1             |           1.0          \n",
      "      3 torch.uint8 channels_first bilinear 712 -> 224 aa=True   |         408.5          |              1076.5             |              1083.0             |           1.0          \n",
      "      3 torch.uint8 channels_first bilinear 712 -> 224 aa=False  |                        |               905.9             |               930.6             |           1.0          \n",
      "      4 torch.uint8 channels_first bilinear 256 -> 32 aa=True    |                        |                72.9             |                73.0             |           1.0          \n",
      "      4 torch.uint8 channels_first bilinear 256 -> 32 aa=False   |                        |                54.1             |                55.7             |           1.0          \n",
      "      4 torch.uint8 channels_first bilinear 256 -> 224 aa=True   |                        |               250.8             |               257.0             |           1.0          \n",
      "      4 torch.uint8 channels_first bilinear 256 -> 224 aa=False  |                        |               235.7             |               243.9             |           1.0          \n",
      "      4 torch.uint8 channels_first bilinear 256 -> 320 aa=True   |                        |               393.3             |               408.0             |           1.0          \n",
      "      4 torch.uint8 channels_first bilinear 256 -> 320 aa=False  |                        |               390.0             |               404.8             |           1.0          \n",
      "      4 torch.uint8 channels_first bilinear 520 -> 32 aa=True    |                        |               193.0             |               194.6             |           1.0          \n",
      "      4 torch.uint8 channels_first bilinear 520 -> 32 aa=False   |                        |               124.0             |               126.8             |           1.0          \n",
      "      4 torch.uint8 channels_first bilinear 520 -> 224 aa=True   |                        |               446.3             |               447.2             |           1.0          \n",
      "      4 torch.uint8 channels_first bilinear 520 -> 224 aa=False  |                        |               356.2             |               375.1             |           1.1          \n",
      "      4 torch.uint8 channels_first bilinear 712 -> 32 aa=True    |                        |               321.5             |               320.2             |           1.0          \n",
      "      4 torch.uint8 channels_first bilinear 712 -> 32 aa=False   |                        |               198.8             |               347.9             |           1.7          \n",
      "      4 torch.uint8 channels_first bilinear 712 -> 224 aa=True   |                        |               637.6             |               788.2             |           1.2          \n",
      "      4 torch.uint8 channels_first bilinear 712 -> 224 aa=False  |                        |               466.5             |               492.2             |           1.1          \n",
      "\n",
      "Times are in microseconds (us).\n",
      "\n"
     ]
    }
   ],
   "source": [
    "table = CustomizedTable(\n",
    "    updated_group,\n",
    "    compare._colorize,\n",
    "    compare._trim_significant_figures,\n",
    "    compare._highlight_warnings\n",
    ")\n",
    "print(table.render())"
   ]
  },
  {
   "cell_type": "code",
   "execution_count": null,
   "id": "2d85252f-8043-4231-abec-9196fd82a427",
   "metadata": {},
   "outputs": [],
   "source": []
  },
  {
   "cell_type": "code",
   "execution_count": null,
   "id": "d2bef84c-c58d-4d9d-88a0-3d753ed859ed",
   "metadata": {},
   "outputs": [],
   "source": []
  },
  {
   "cell_type": "markdown",
   "id": "eee2cdb3-9e9c-40c4-93cc-3bf51271c95c",
   "metadata": {},
   "source": [
    "```\n",
    "      4 torch.uint8 channels_last bilinear 712 -> 32 aa=True     |                        |               193.8             |               197.8             |           1.0          \n",
    "      4 torch.uint8 channels_last bilinear 712 -> 32 aa=False    |                        |                72.9             |                76.0             |           1.0          \n",
    "      4 torch.uint8 channels_last bilinear 712 -> 224 aa=True    |                        |               422.5             |               426.1             |           1.0          \n",
    "      4 torch.uint8 channels_last bilinear 712 -> 224 aa=False   |                        |               253.3             |               277.3             |           1.1          \n",
    "\n",
    "      4 torch.uint8 channels_first bilinear 712 -> 32 aa=True    |                        |               321.5             |               320.2             |           1.0          \n",
    "      4 torch.uint8 channels_first bilinear 712 -> 32 aa=False   |                        |               198.8             |               347.9             |           1.7          \n",
    "      4 torch.uint8 channels_first bilinear 712 -> 224 aa=True   |                        |               637.6             |               788.2             |           1.2          \n",
    "      4 torch.uint8 channels_first bilinear 712 -> 224 aa=False  |                        |               466.5             |               492.2             |           1.1          \n",
    "\n",
    "```"
   ]
  },
  {
   "cell_type": "markdown",
   "id": "cb41dc8f-70eb-4a9a-80d7-eff255761ae7",
   "metadata": {},
   "source": [
    "```\n",
    "PIL version:  9.0.0.post1\n",
    "[-------------------------------------------- Resize -------------------------------------------]\n",
    "                                                                 |  torch (2.1.0a0+git0c58e8a) PR\n",
    "1 threads: --------------------------------------------------------------------------------------\n",
    "      4 torch.uint8 channels_last bilinear 712 -> 32 aa=True     |        193.671 (+-6.284)      \n",
    "      4 torch.uint8 channels_last bilinear 712 -> 32 aa=False    |         73.858 (+-0.251)      \n",
    "      4 torch.uint8 channels_last bilinear 712 -> 224 aa=True    |        424.211 (+-2.159)      \n",
    "      4 torch.uint8 channels_last bilinear 712 -> 224 aa=False   |        275.816 (+-2.406)      \n",
    "\n",
    "      4 torch.uint8 channels_first bilinear 712 -> 32 aa=True    |        319.124 (+-2.168)      \n",
    "      4 torch.uint8 channels_first bilinear 712 -> 32 aa=False   |        199.970 (+-1.239)      \n",
    "      4 torch.uint8 channels_first bilinear 712 -> 224 aa=True   |        640.515 (+-2.885)      \n",
    "      4 torch.uint8 channels_first bilinear 712 -> 224 aa=False  |        491.073 (+-2.918)\n",
    "```"
   ]
  },
  {
   "cell_type": "code",
   "execution_count": null,
   "id": "d6603661-cd96-49e9-ad2c-3ac3b6ee1c30",
   "metadata": {},
   "outputs": [],
   "source": []
  }
 ],
 "metadata": {
  "kernelspec": {
   "display_name": "Python 3 (ipykernel)",
   "language": "python",
   "name": "python3"
  },
  "language_info": {
   "codemirror_mode": {
    "name": "ipython",
    "version": 3
   },
   "file_extension": ".py",
   "mimetype": "text/x-python",
   "name": "python",
   "nbconvert_exporter": "python",
   "pygments_lexer": "ipython3",
   "version": "3.9.12"
  }
 },
 "nbformat": 4,
 "nbformat_minor": 5
}
