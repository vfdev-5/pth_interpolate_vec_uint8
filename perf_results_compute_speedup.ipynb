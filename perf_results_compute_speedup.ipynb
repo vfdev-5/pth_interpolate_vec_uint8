{
 "cells": [
  {
   "cell_type": "code",
   "execution_count": null,
   "id": "c67e9506-bb27-4633-bfd4-3c6b31447dec",
   "metadata": {},
   "outputs": [],
   "source": []
  },
  {
   "cell_type": "code",
   "execution_count": 1,
   "id": "e1087423-0e8b-4053-9d50-a59a6f31c431",
   "metadata": {},
   "outputs": [],
   "source": [
    "perf_files = [\n",
    "    \"output/20230313-133243-pr.pkl\",\n",
    "    \"output/20230313-134520-nightly.pkl\",\n",
    "]"
   ]
  },
  {
   "cell_type": "code",
   "execution_count": 2,
   "id": "21bc141f-9dd8-412b-969c-3614e9c8151f",
   "metadata": {},
   "outputs": [
    {
     "name": "stderr",
     "output_type": "stream",
     "text": [
      "No CUDA runtime is found, using CUDA_HOME='/opt/conda'\n"
     ]
    }
   ],
   "source": [
    "import pickle\n",
    "from pathlib import Path\n",
    "import torch\n",
    "import torch.utils.benchmark as benchmark\n",
    "\n",
    "ab_results = []\n",
    "for perf_filepath in perf_files:\n",
    "    assert Path(perf_filepath).exists(), f\"{perf_filepath} is not found\"\n",
    "    with open(perf_filepath, \"rb\") as handler:\n",
    "        output = pickle.load(handler)\n",
    "        ab_results.extend(output[\"test_results\"])\n",
    "\n",
    "    \n",
    "compare = benchmark.Compare(ab_results)"
   ]
  },
  {
   "cell_type": "code",
   "execution_count": 3,
   "id": "3564c532-5dad-4700-9967-5ba5941eb982",
   "metadata": {},
   "outputs": [
    {
     "name": "stdout",
     "output_type": "stream",
     "text": [
      "[---------------------------------------------------------------------------- Resize ---------------------------------------------------------------------------]\n",
      "                                                                 |  Pillow (9.0.0.post1)  |  torch (2.1.0a0+git1d3a939) PR  |  torch (2.1.0a0+git5309c44) nightly\n",
      "1 threads: ------------------------------------------------------------------------------------------------------------------------------------------------------\n",
      "      3 torch.uint8 channels_last bilinear 256 -> 32 aa=True     |          38.5          |                56.3             |                 132.5              \n",
      "      3 torch.uint8 channels_last bilinear 256 -> 32 aa=False    |                        |                36.2             |                 110.6              \n",
      "      3 torch.uint8 channels_last bilinear 256 -> 224 aa=True    |         127.0          |               149.9             |                 292.2              \n",
      "      3 torch.uint8 channels_last bilinear 256 -> 224 aa=False   |                        |               134.2             |                 276.8              \n",
      "      3 torch.uint8 channels_last bilinear 256 -> 320 aa=True    |         178.1          |               200.3             |                 416.4              \n",
      "      3 torch.uint8 channels_last bilinear 256 -> 320 aa=False   |                        |               198.0             |                 414.4              \n",
      "      3 torch.uint8 channels_last bilinear 520 -> 32 aa=True     |         112.9          |               129.3             |                 441.3              \n",
      "      3 torch.uint8 channels_last bilinear 520 -> 32 aa=False    |                        |                54.9             |                 364.2              \n",
      "      3 torch.uint8 channels_last bilinear 520 -> 224 aa=True    |         282.7          |               324.8             |                 691.6              \n",
      "      3 torch.uint8 channels_last bilinear 520 -> 224 aa=False   |                        |               211.9             |                 583.1              \n",
      "      3 torch.uint8 channels_last bilinear 712 -> 32 aa=True     |         185.9          |               201.1             |                 783.1              \n",
      "      3 torch.uint8 channels_last bilinear 712 -> 32 aa=False    |                        |                72.1             |                 649.8              \n",
      "      3 torch.uint8 channels_last bilinear 712 -> 224 aa=True    |         408.7          |               436.7             |                1100.5              \n",
      "      3 torch.uint8 channels_last bilinear 712 -> 224 aa=False   |                        |               268.8             |                 906.6              \n",
      "      4 torch.uint8 channels_last bilinear 256 -> 32 aa=True     |                        |                53.5             |                  54.4              \n",
      "      4 torch.uint8 channels_last bilinear 256 -> 32 aa=False    |                        |                34.8             |                  33.5              \n",
      "      4 torch.uint8 channels_last bilinear 256 -> 224 aa=True    |                        |               142.8             |                 140.2              \n",
      "      4 torch.uint8 channels_last bilinear 256 -> 224 aa=False   |                        |               127.5             |                 125.6              \n",
      "      4 torch.uint8 channels_last bilinear 256 -> 320 aa=True    |                        |               190.8             |                 185.2              \n",
      "      4 torch.uint8 channels_last bilinear 256 -> 320 aa=False   |                        |               188.9             |                 183.2              \n",
      "      4 torch.uint8 channels_last bilinear 520 -> 32 aa=True     |                        |               124.6             |                 132.6              \n",
      "      4 torch.uint8 channels_last bilinear 520 -> 32 aa=False    |                        |                55.9             |                  54.6              \n",
      "      4 torch.uint8 channels_last bilinear 520 -> 224 aa=True    |                        |               289.7             |                 307.9              \n",
      "      4 torch.uint8 channels_last bilinear 520 -> 224 aa=False   |                        |               200.1             |                 200.0              \n",
      "      4 torch.uint8 channels_last bilinear 712 -> 32 aa=True     |                        |               193.8             |                 207.9              \n",
      "      4 torch.uint8 channels_last bilinear 712 -> 32 aa=False    |                        |                72.9             |                  71.5              \n",
      "      4 torch.uint8 channels_last bilinear 712 -> 224 aa=True    |                        |               422.5             |                 451.9              \n",
      "      4 torch.uint8 channels_last bilinear 712 -> 224 aa=False   |                        |               253.3             |                 254.8              \n",
      "      3 torch.uint8 channels_first bilinear 256 -> 32 aa=True    |          38.4          |               131.0             |                 132.6              \n",
      "      3 torch.uint8 channels_first bilinear 256 -> 32 aa=False   |                        |               112.6             |                 111.0              \n",
      "      3 torch.uint8 channels_first bilinear 256 -> 224 aa=True   |         127.8          |               295.3             |                 317.4              \n",
      "      3 torch.uint8 channels_first bilinear 256 -> 224 aa=False  |                        |               280.2             |                 310.7              \n",
      "      3 torch.uint8 channels_first bilinear 256 -> 320 aa=True   |         178.6          |               422.9             |                 461.1              \n",
      "      3 torch.uint8 channels_first bilinear 256 -> 320 aa=False  |                        |               420.1             |                 474.3              \n",
      "      3 torch.uint8 channels_first bilinear 520 -> 32 aa=True    |         113.3          |               433.2             |                 442.1              \n",
      "      3 torch.uint8 channels_first bilinear 520 -> 32 aa=False   |                        |               364.7             |                 364.0              \n",
      "      3 torch.uint8 channels_first bilinear 520 -> 224 aa=True   |         282.5          |               674.1             |                 724.1              \n",
      "      3 torch.uint8 channels_first bilinear 520 -> 224 aa=False  |                        |               584.8             |                 619.1              \n",
      "      3 torch.uint8 channels_first bilinear 712 -> 32 aa=True    |         185.7          |               771.0             |                 787.8              \n",
      "      3 torch.uint8 channels_first bilinear 712 -> 32 aa=False   |                        |               652.6             |                 647.9              \n",
      "      3 torch.uint8 channels_first bilinear 712 -> 224 aa=True   |         408.3          |              1076.5             |                1132.7              \n",
      "      3 torch.uint8 channels_first bilinear 712 -> 224 aa=False  |                        |               905.9             |                 937.3              \n",
      "      4 torch.uint8 channels_first bilinear 256 -> 32 aa=True    |                        |                72.9             |                  74.0              \n",
      "      4 torch.uint8 channels_first bilinear 256 -> 32 aa=False   |                        |                54.1             |                  53.1              \n",
      "      4 torch.uint8 channels_first bilinear 256 -> 224 aa=True   |                        |               250.8             |                 276.4              \n",
      "      4 torch.uint8 channels_first bilinear 256 -> 224 aa=False  |                        |               235.7             |                 266.3              \n",
      "      4 torch.uint8 channels_first bilinear 256 -> 320 aa=True   |                        |               393.3             |                 451.1              \n",
      "      4 torch.uint8 channels_first bilinear 256 -> 320 aa=False  |                        |               390.0             |                 441.4              \n",
      "      4 torch.uint8 channels_first bilinear 520 -> 32 aa=True    |                        |               193.0             |                 201.1              \n",
      "      4 torch.uint8 channels_first bilinear 520 -> 32 aa=False   |                        |               124.0             |                 123.2              \n",
      "      4 torch.uint8 channels_first bilinear 520 -> 224 aa=True   |                        |               446.3             |                 481.7              \n",
      "      4 torch.uint8 channels_first bilinear 520 -> 224 aa=False  |                        |               356.2             |                 392.5              \n",
      "      4 torch.uint8 channels_first bilinear 712 -> 32 aa=True    |                        |               321.5             |                 333.7              \n",
      "      4 torch.uint8 channels_first bilinear 712 -> 32 aa=False   |                        |               198.8             |                 197.6              \n",
      "      4 torch.uint8 channels_first bilinear 712 -> 224 aa=True   |                        |               637.6             |                 692.5              \n",
      "      4 torch.uint8 channels_first bilinear 712 -> 224 aa=False  |                        |               466.5             |                 499.1              \n",
      "\n",
      "Times are in microseconds (us).\n",
      "\n"
     ]
    }
   ],
   "source": [
    "# compare.colorize()\n",
    "compare.print()"
   ]
  },
  {
   "cell_type": "code",
   "execution_count": 4,
   "id": "37bb16d7-b6a9-43c8-a6ec-c4038acaa3de",
   "metadata": {},
   "outputs": [],
   "source": [
    "from torch.utils.benchmark.utils import common"
   ]
  },
  {
   "cell_type": "code",
   "execution_count": 5,
   "id": "967377db-5b9b-48ac-8566-379b5829ec63",
   "metadata": {},
   "outputs": [],
   "source": [
    "results = common.Measurement.merge(compare._results)"
   ]
  },
  {
   "cell_type": "code",
   "execution_count": 6,
   "id": "8a77b721-fad8-419b-9a01-dcc218feac0f",
   "metadata": {},
   "outputs": [],
   "source": [
    "grouped_results = compare._group_by_label(results)"
   ]
  },
  {
   "cell_type": "code",
   "execution_count": 7,
   "id": "8e3439c5-7a3e-4703-8507-11e112c261e2",
   "metadata": {},
   "outputs": [],
   "source": [
    "# compare._render??\n",
    "groups_iter = iter(grouped_results.values())\n",
    "group = next(groups_iter)"
   ]
  },
  {
   "cell_type": "code",
   "execution_count": 8,
   "id": "cd16b0c4-87d5-4565-b9fb-182d971c3e51",
   "metadata": {},
   "outputs": [],
   "source": [
    "c1 = \"torch (2.1.0a0+git1d3a939) PR\"\n",
    "c2 = \"torch (2.1.0a0+git5309c44) nightly\"\n",
    "# description = f\"Speed-up: {c1} vs {c2}\"\n",
    "description = f\"Speed-up: PR vs nightly\""
   ]
  },
  {
   "cell_type": "code",
   "execution_count": 9,
   "id": "96d1cd59-4b2b-4c10-98a2-3c4571e91af0",
   "metadata": {},
   "outputs": [],
   "source": [
    "class Value(common.Measurement): pass\n",
    "#     @property\n",
    "#     def times(self):\n",
    "#         assert len(self.raw_times) == 1, self.raw_times\n",
    "#         return self.raw_times[0]\n",
    "    \n",
    "#     def _lazy_init(self):\n",
    "#         pass"
   ]
  },
  {
   "cell_type": "code",
   "execution_count": 10,
   "id": "edda9082-acba-40f9-8d05-728e87863488",
   "metadata": {},
   "outputs": [],
   "source": [
    "# for measurement in group:\n",
    "#     print(measurement.task_spec.description, measurement.task_spec.sub_label)"
   ]
  },
  {
   "cell_type": "code",
   "execution_count": 11,
   "id": "761d5686-f46d-48e3-b585-517c2d20343f",
   "metadata": {},
   "outputs": [],
   "source": [
    "updated_group = []\n",
    "\n",
    "sub_label = None\n",
    "v1 = None\n",
    "v2 = None\n",
    "r = None\n",
    "\n",
    "_, scale = common.select_unit(min([r.median for r in group]))\n",
    "\n",
    "for measurement in group:\n",
    "    # print(measurement.task_spec.description)\n",
    "        \n",
    "    if measurement.task_spec.description == c1:\n",
    "        v1 = measurement.median\n",
    "        sub_label = measurement.task_spec.sub_label\n",
    "        # print(c1, v1, sub_label)\n",
    "\n",
    "    measurement2 = None\n",
    "    for m2 in group:\n",
    "        d2 = m2.task_spec.description\n",
    "        sl2 = m2.task_spec.sub_label\n",
    "        if d2 == c2 and sl2 == sub_label:\n",
    "            v2 = m2.median\n",
    "            # print(c2, v2)\n",
    "            measurement2 = m2            \n",
    "            break\n",
    "    \n",
    "    if measurement not in updated_group:\n",
    "        updated_group.append(measurement)\n",
    "    if v1 is not None and v2 is not None:\n",
    "        if measurement2 not in updated_group:\n",
    "            updated_group.append(measurement2)\n",
    "        r = v2 / v1 * scale\n",
    "        # print(\"->\", r)\n",
    "        v1 = None\n",
    "        v2 = None\n",
    "        sub_label = None\n",
    "        speedup_task = common.TaskSpec(\n",
    "            \"\", \n",
    "            setup=\"\", \n",
    "            label=measurement.label,\n",
    "            sub_label=measurement.sub_label,\n",
    "            num_threads=measurement.num_threads,\n",
    "            env=measurement.env,\n",
    "            description=description\n",
    "        )\n",
    "        speedup_measurement = Value(1, [r, ], speedup_task)\n",
    "        r = None\n",
    "        updated_group.append(speedup_measurement)"
   ]
  },
  {
   "cell_type": "code",
   "execution_count": 12,
   "id": "9e08171c-2992-4b7e-82b7-96b40cc63470",
   "metadata": {},
   "outputs": [],
   "source": [
    "from torch.utils.benchmark.utils.compare import Table\n",
    "\n",
    "\n",
    "class CustomizedTable(Table):\n",
    "    \n",
    "    def __init__(self, results, colorize, trim_significant_figures, highlight_warnings):\n",
    "        assert len(set(r.label for r in results)) == 1\n",
    "\n",
    "        self.results = results\n",
    "        self._colorize = colorize\n",
    "        self._trim_significant_figures = trim_significant_figures\n",
    "        self._highlight_warnings = highlight_warnings\n",
    "        self.label = results[0].label\n",
    "        self.time_unit, self.time_scale = common.select_unit(\n",
    "            min(r.median for r in results if not isinstance(r, Value))\n",
    "        )\n",
    "\n",
    "        self.row_keys = common.ordered_unique([self.row_fn(i) for i in results])\n",
    "        self.row_keys.sort(key=lambda args: args[:2])  # preserve stmt order\n",
    "        self.column_keys = common.ordered_unique([self.col_fn(i) for i in results])\n",
    "        self.rows, self.columns = self.populate_rows_and_columns()"
   ]
  },
  {
   "cell_type": "code",
   "execution_count": 13,
   "id": "0d712258-c4e3-4342-a66f-4f6aea821c15",
   "metadata": {},
   "outputs": [
    {
     "name": "stdout",
     "output_type": "stream",
     "text": [
      "[------------------------------------------------------------------------------------------ Resize -----------------------------------------------------------------------------------------]\n",
      "                                                                 |  Pillow (9.0.0.post1)  |  torch (2.1.0a0+git1d3a939) PR  |  torch (2.1.0a0+git5309c44) nightly  |  Speed-up: PR vs nightly\n",
      "1 threads: ----------------------------------------------------------------------------------------------------------------------------------------------------------------------------------\n",
      "      3 torch.uint8 channels_last bilinear 256 -> 32 aa=True     |          38.5          |                56.3             |                 132.5                |            2.4          \n",
      "      3 torch.uint8 channels_last bilinear 256 -> 32 aa=False    |                        |                36.2             |                 110.6                |            3.1          \n",
      "      3 torch.uint8 channels_last bilinear 256 -> 224 aa=True    |         127.0          |               149.9             |                 292.2                |            1.9          \n",
      "      3 torch.uint8 channels_last bilinear 256 -> 224 aa=False   |                        |               134.2             |                 276.8                |            2.1          \n",
      "      3 torch.uint8 channels_last bilinear 256 -> 320 aa=True    |         178.1          |               200.3             |                 416.4                |            2.1          \n",
      "      3 torch.uint8 channels_last bilinear 256 -> 320 aa=False   |                        |               198.0             |                 414.4                |            2.1          \n",
      "      3 torch.uint8 channels_last bilinear 520 -> 32 aa=True     |         112.9          |               129.3             |                 441.3                |            3.4          \n",
      "      3 torch.uint8 channels_last bilinear 520 -> 32 aa=False    |                        |                54.9             |                 364.2                |            6.6          \n",
      "      3 torch.uint8 channels_last bilinear 520 -> 224 aa=True    |         282.7          |               324.8             |                 691.6                |            2.1          \n",
      "      3 torch.uint8 channels_last bilinear 520 -> 224 aa=False   |                        |               211.9             |                 583.1                |            2.8          \n",
      "      3 torch.uint8 channels_last bilinear 712 -> 32 aa=True     |         185.9          |               201.1             |                 783.1                |            3.9          \n",
      "      3 torch.uint8 channels_last bilinear 712 -> 32 aa=False    |                        |                72.1             |                 649.8                |            9.0          \n",
      "      3 torch.uint8 channels_last bilinear 712 -> 224 aa=True    |         408.7          |               436.7             |                1100.5                |            2.5          \n",
      "      3 torch.uint8 channels_last bilinear 712 -> 224 aa=False   |                        |               268.8             |                 906.6                |            3.4          \n",
      "      4 torch.uint8 channels_last bilinear 256 -> 32 aa=True     |                        |                53.5             |                  54.4                |            1.0          \n",
      "      4 torch.uint8 channels_last bilinear 256 -> 32 aa=False    |                        |                34.8             |                  33.5                |            1.0          \n",
      "      4 torch.uint8 channels_last bilinear 256 -> 224 aa=True    |                        |               142.8             |                 140.2                |            1.0          \n",
      "      4 torch.uint8 channels_last bilinear 256 -> 224 aa=False   |                        |               127.5             |                 125.6                |            1.0          \n",
      "      4 torch.uint8 channels_last bilinear 256 -> 320 aa=True    |                        |               190.8             |                 185.2                |            1.0          \n",
      "      4 torch.uint8 channels_last bilinear 256 -> 320 aa=False   |                        |               188.9             |                 183.2                |            1.0          \n",
      "      4 torch.uint8 channels_last bilinear 520 -> 32 aa=True     |                        |               124.6             |                 132.6                |            1.1          \n",
      "      4 torch.uint8 channels_last bilinear 520 -> 32 aa=False    |                        |                55.9             |                  54.6                |            1.0          \n",
      "      4 torch.uint8 channels_last bilinear 520 -> 224 aa=True    |                        |               289.7             |                 307.9                |            1.1          \n",
      "      4 torch.uint8 channels_last bilinear 520 -> 224 aa=False   |                        |               200.1             |                 200.0                |            1.0          \n",
      "      4 torch.uint8 channels_last bilinear 712 -> 32 aa=True     |                        |               193.8             |                 207.9                |            1.1          \n",
      "      4 torch.uint8 channels_last bilinear 712 -> 32 aa=False    |                        |                72.9             |                  71.5                |            1.0          \n",
      "      4 torch.uint8 channels_last bilinear 712 -> 224 aa=True    |                        |               422.5             |                 451.9                |            1.1          \n",
      "      4 torch.uint8 channels_last bilinear 712 -> 224 aa=False   |                        |               253.3             |                 254.8                |            1.0          \n",
      "      3 torch.uint8 channels_first bilinear 256 -> 32 aa=True    |          38.4          |               131.0             |                 132.6                |            1.0          \n",
      "      3 torch.uint8 channels_first bilinear 256 -> 32 aa=False   |                        |               112.6             |                 111.0                |            1.0          \n",
      "      3 torch.uint8 channels_first bilinear 256 -> 224 aa=True   |         127.8          |               295.3             |                 317.4                |            1.1          \n",
      "      3 torch.uint8 channels_first bilinear 256 -> 224 aa=False  |                        |               280.2             |                 310.7                |            1.1          \n",
      "      3 torch.uint8 channels_first bilinear 256 -> 320 aa=True   |         178.6          |               422.9             |                 461.1                |            1.1          \n",
      "      3 torch.uint8 channels_first bilinear 256 -> 320 aa=False  |                        |               420.1             |                 474.3                |            1.1          \n",
      "      3 torch.uint8 channels_first bilinear 520 -> 32 aa=True    |         113.3          |               433.2             |                 442.1                |            1.0          \n",
      "      3 torch.uint8 channels_first bilinear 520 -> 32 aa=False   |                        |               364.7             |                 364.0                |            1.0          \n",
      "      3 torch.uint8 channels_first bilinear 520 -> 224 aa=True   |         282.5          |               674.1             |                 724.1                |            1.1          \n",
      "      3 torch.uint8 channels_first bilinear 520 -> 224 aa=False  |                        |               584.8             |                 619.1                |            1.1          \n",
      "      3 torch.uint8 channels_first bilinear 712 -> 32 aa=True    |         185.7          |               771.0             |                 787.8                |            1.0          \n",
      "      3 torch.uint8 channels_first bilinear 712 -> 32 aa=False   |                        |               652.6             |                 647.9                |            1.0          \n",
      "      3 torch.uint8 channels_first bilinear 712 -> 224 aa=True   |         408.3          |              1076.5             |                1132.7                |            1.1          \n",
      "      3 torch.uint8 channels_first bilinear 712 -> 224 aa=False  |                        |               905.9             |                 937.3                |            1.0          \n",
      "      4 torch.uint8 channels_first bilinear 256 -> 32 aa=True    |                        |                72.9             |                  74.0                |            1.0          \n",
      "      4 torch.uint8 channels_first bilinear 256 -> 32 aa=False   |                        |                54.1             |                  53.1                |            1.0          \n",
      "      4 torch.uint8 channels_first bilinear 256 -> 224 aa=True   |                        |               250.8             |                 276.4                |            1.1          \n",
      "      4 torch.uint8 channels_first bilinear 256 -> 224 aa=False  |                        |               235.7             |                 266.3                |            1.1          \n",
      "      4 torch.uint8 channels_first bilinear 256 -> 320 aa=True   |                        |               393.3             |                 451.1                |            1.1          \n",
      "      4 torch.uint8 channels_first bilinear 256 -> 320 aa=False  |                        |               390.0             |                 441.4                |            1.1          \n",
      "      4 torch.uint8 channels_first bilinear 520 -> 32 aa=True    |                        |               193.0             |                 201.1                |            1.0          \n",
      "      4 torch.uint8 channels_first bilinear 520 -> 32 aa=False   |                        |               124.0             |                 123.2                |            1.0          \n",
      "      4 torch.uint8 channels_first bilinear 520 -> 224 aa=True   |                        |               446.3             |                 481.7                |            1.1          \n",
      "      4 torch.uint8 channels_first bilinear 520 -> 224 aa=False  |                        |               356.2             |                 392.5                |            1.1          \n",
      "      4 torch.uint8 channels_first bilinear 712 -> 32 aa=True    |                        |               321.5             |                 333.7                |            1.0          \n",
      "      4 torch.uint8 channels_first bilinear 712 -> 32 aa=False   |                        |               198.8             |                 197.6                |            1.0          \n",
      "      4 torch.uint8 channels_first bilinear 712 -> 224 aa=True   |                        |               637.6             |                 692.5                |            1.1          \n",
      "      4 torch.uint8 channels_first bilinear 712 -> 224 aa=False  |                        |               466.5             |                 499.1                |            1.1          \n",
      "\n",
      "Times are in microseconds (us).\n",
      "\n"
     ]
    }
   ],
   "source": [
    "table = CustomizedTable(\n",
    "    updated_group,\n",
    "    compare._colorize,\n",
    "    compare._trim_significant_figures,\n",
    "    compare._highlight_warnings\n",
    ")\n",
    "print(table.render())"
   ]
  },
  {
   "cell_type": "code",
   "execution_count": null,
   "id": "02e104dd-ebc2-49dd-a396-509f7e9846b0",
   "metadata": {},
   "outputs": [],
   "source": []
  },
  {
   "cell_type": "code",
   "execution_count": null,
   "id": "d6603661-cd96-49e9-ad2c-3ac3b6ee1c30",
   "metadata": {},
   "outputs": [],
   "source": []
  }
 ],
 "metadata": {
  "kernelspec": {
   "display_name": "Python 3 (ipykernel)",
   "language": "python",
   "name": "python3"
  },
  "language_info": {
   "codemirror_mode": {
    "name": "ipython",
    "version": 3
   },
   "file_extension": ".py",
   "mimetype": "text/x-python",
   "name": "python",
   "nbconvert_exporter": "python",
   "pygments_lexer": "ipython3",
   "version": "3.9.12"
  }
 },
 "nbformat": 4,
 "nbformat_minor": 5
}
