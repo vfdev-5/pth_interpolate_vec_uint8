{
 "cells": [
  {
   "cell_type": "markdown",
   "id": "de265104-8b75-4e8f-a26b-1152758302bd",
   "metadata": {},
   "source": [
    "# Notes on resize with antialiasing as Pillow (pytorch interpolate)"
   ]
  },
  {
   "cell_type": "code",
   "execution_count": 1,
   "id": "c50502ad-707c-4ed1-bbd6-ec0e93e8ee00",
   "metadata": {},
   "outputs": [
    {
     "name": "stdout",
     "output_type": "stream",
     "text": [
      "[[ 0  1  2]\n",
      " [ 3  4  5]\n",
      " [ 6  7  8]\n",
      " [ 9 10 11]\n",
      " [12 13 14]\n",
      " [15 16 17]\n",
      " [18 19 20]\n",
      " [21 22 23]]\n",
      "(2, 8)\n",
      "[[6, 7, 8], [15, 16, 17]]\n"
     ]
    }
   ],
   "source": [
    "import numpy as np\n",
    "from PIL import Image\n",
    "\n",
    "i = np.arange(8 * 8 * 3, dtype=\"uint8\").reshape(8, 8, 3)\n",
    "print(i[0, :, :])\n",
    "\n",
    "i = Image.fromarray(i)\n",
    "\n",
    "o = i.resize([2, 8], 2)\n",
    "print(o.size)\n",
    "oo = np.asarray(o)\n",
    "print(oo[0, :, :].tolist())\n"
   ]
  },
  {
   "cell_type": "code",
   "execution_count": 14,
   "id": "c8d0e9cd-ef30-47f0-a590-d42c97a09a5d",
   "metadata": {},
   "outputs": [
    {
     "name": "stdout",
     "output_type": "stream",
     "text": [
      "[ 0.  3.  6.  9. 12. 15. 18. 21.]\n",
      "(2, 8)\n",
      "[5.6785712242126465, 15.321428298950195]\n"
     ]
    }
   ],
   "source": [
    "import numpy as np\n",
    "from PIL import Image\n",
    "\n",
    "i = np.arange(8 * 8 * 3, dtype=\"float\").reshape(8, 8, 3)\n",
    "i = i[:, :, 0]\n",
    "print(i[0, :])\n",
    "\n",
    "i = Image.fromarray(i)\n",
    "\n",
    "o = i.resize([2, 8], 2)\n",
    "print(o.size)\n",
    "oo = np.asarray(o)\n",
    "print(oo[0, :].tolist())\n"
   ]
  },
  {
   "cell_type": "markdown",
   "id": "d6fb6145-322f-41c3-ab95-c63543aaf88d",
   "metadata": {},
   "source": [
    "- Input as RGB stored as uint32 as (r, g, b, 255)"
   ]
  },
  {
   "cell_type": "markdown",
   "id": "92dbd080-21cd-4eff-89c8-4fed8b059e2a",
   "metadata": {},
   "source": [
    "## Compute first line output (size=2)\n",
    "\n",
    "- let's skip how weights and bounds are computed\n",
    "\n",
    "Output is computed as following:\n",
    "\n",
    "$$\n",
    "output(i) = \\sum_{j=0}^{xsize_i} ( input(xmin_i + j) * W(i, j))\n",
    "$$\n",
    "\n",
    "```\n",
    "output_R[o] = R[xmin[o] + 0] * W[0] + R[xmin[o] + 1] * W[1] + ...\n",
    "\n",
    "mmk = [W[0]_0, W[0]_1, W[1]_0, W[1]_1, W[0]_0, W[0]_1, W[1]_0, W[1]_1, ...]\n",
    "\n",
    "data_cl = [R0 G0 B0 A0, R1 G1 B1 A1, ...]\n",
    "\n",
    "data_cf1 = [R00 R01 R02 R03, R04 ...]\n",
    "data_cf2 = [R10 R11 R12 R13, R14 ...]\n",
    "data_cf3 = [R20 R21 R22 R13, R14 ...]\n",
    "data_cf4 = [R30 R31 R32 R13, R14 ...]\n",
    "\n",
    "\n",
    "pix_cl = [\n",
    "    R[xmin[o] + 0] 0 R[xmin[o] + 1] 0, G[xmin[o] + 0] 0 G[xmin[o] + 1] 0, ...  \n",
    "]\n",
    "\n",
    "pix_cf = [\n",
    "    R[xmin[o] + 0] 0 R[xmin[o] + 1] 0, R[xmin[o2] + 0] 0 R[xmin[o2] + 1] 0, ...  \n",
    "]\n",
    "\n",
    "\n",
    "```"
   ]
  },
  {
   "cell_type": "code",
   "execution_count": null,
   "id": "f3dd2706-ae04-4cab-b697-f7f5c3360c2e",
   "metadata": {},
   "outputs": [],
   "source": [
    "# uint8_t * __ALIGNED__ data[4] = {src[0], src[1], src[2], 255}\n",
    "# Vec v = Vec::loadu(data);\n",
    "# _mm256_loadu_epi32(src[3 * i + offset]);"
   ]
  },
  {
   "cell_type": "code",
   "execution_count": null,
   "id": "6a89c6a1-1359-45d9-a67e-a53c3ab4da3a",
   "metadata": {},
   "outputs": [],
   "source": []
  },
  {
   "cell_type": "code",
   "execution_count": null,
   "id": "216202ae-56db-4f03-b05b-73731dbfd0c5",
   "metadata": {},
   "outputs": [],
   "source": []
  },
  {
   "cell_type": "code",
   "execution_count": 15,
   "id": "2778d098-291e-45bf-9f17-c780cac67256",
   "metadata": {},
   "outputs": [],
   "source": [
    "input_line = [0, 1, 2, 255, 3, 4, 5, 255, 6, 7, 8, 255, 9, 10, 11, 255, 12, 13, 14, 255, 15, 16, 17, 255, 18, 19, 20, 255, 21, 22, 23, 255]"
   ]
  },
  {
   "cell_type": "code",
   "execution_count": 16,
   "id": "739cbc33-8df3-4434-aa2c-7c4232eb503c",
   "metadata": {},
   "outputs": [],
   "source": [
    "xmin_0, xsize_0 = 0, 6\n",
    "weights_0 = [0.17857142857142858, 0.25, 0.25, 0.17857142857142858, 0.10714285714285714, 0.035714285714285712, 0.0, 0.0, 0.0]\n",
    "\n",
    "xmin_1, xsize_1 = 2, 6\n",
    "weights_1 = [0.035714285714285712, 0.10714285714285714, 0.17857142857142858, 0.25, 0.25, 0.17857142857142858, 0.0, 0.0, 0.0]"
   ]
  },
  {
   "cell_type": "code",
   "execution_count": 17,
   "id": "a3469f60-760c-4820-b85b-dfe79e44345d",
   "metadata": {},
   "outputs": [
    {
     "name": "stdout",
     "output_type": "stream",
     "text": [
      "- Red: \n",
      "0 0.17857142857142858 0.0 -> 0.0\n",
      "3 0.25 0.75 -> 0.75\n",
      "6 0.25 1.5 -> 2.25\n",
      "9 0.17857142857142858 1.6071428571428572 -> 3.857142857142857\n",
      "12 0.10714285714285714 1.2857142857142856 -> 5.142857142857142\n",
      "15 0.03571428571428571 0.5357142857142857 -> 5.678571428571428\n",
      "- Green: \n",
      "1 0.17857142857142858 0.17857142857142858 -> 0.17857142857142858\n",
      "4 0.25 1.0 -> 1.1785714285714286\n",
      "7 0.25 1.75 -> 2.928571428571429\n",
      "10 0.17857142857142858 1.7857142857142858 -> 4.714285714285714\n",
      "13 0.10714285714285714 1.3928571428571428 -> 6.107142857142858\n",
      "16 0.03571428571428571 0.5714285714285714 -> 6.678571428571429\n",
      "- Blue: \n",
      "2 0.17857142857142858 0.35714285714285715 -> 0.35714285714285715\n",
      "5 0.25 1.25 -> 1.6071428571428572\n",
      "8 0.25 2.0 -> 3.607142857142857\n",
      "11 0.17857142857142858 1.9642857142857144 -> 5.571428571428571\n",
      "14 0.10714285714285714 1.5 -> 7.071428571428571\n",
      "17 0.03571428571428571 0.6071428571428571 -> 7.678571428571428\n"
     ]
    },
    {
     "data": {
      "text/plain": [
       "[6, 7, 8]"
      ]
     },
     "execution_count": 17,
     "metadata": {},
     "output_type": "execute_result"
    }
   ],
   "source": [
    "output_0 = []\n",
    "\n",
    "print(\"- Red: \")\n",
    "output_r = 0.0\n",
    "input_r = input_line[::4]  # [0, 3, 6, 9, 12, 15, 18, 21]\n",
    "for i in range(xsize_0):\n",
    "    r = input_r[i + xmin_0]\n",
    "    w = weights_0[i]\n",
    "    output_r += r * w\n",
    "    print(r, w, r * w, \"->\", output_r)\n",
    "    \n",
    "output_0.append(int(output_r + 0.5))\n",
    "\n",
    "print(\"- Green: \")\n",
    "output_g = 0.0\n",
    "input_g = input_line[1::4]  # [0, 3, 6, 9, 12, 15, 18, 21]\n",
    "for i in range(xsize_0):\n",
    "    g = input_g[i + xmin_0]\n",
    "    w = weights_0[i]\n",
    "    output_g += g * w\n",
    "    print(g, w, g * w, \"->\", output_g)\n",
    "    \n",
    "output_0.append(int(output_g + 0.5))\n",
    "\n",
    "print(\"- Blue: \")\n",
    "output_b = 0.0\n",
    "input_b = input_line[2::4]  # [0, 3, 6, 9, 12, 15, 18, 21]\n",
    "for i in range(xsize_0):\n",
    "    b = input_b[i + xmin_0]\n",
    "    w = weights_0[i]\n",
    "    output_b += b * w\n",
    "    print(b, w, b * w, \"->\", output_b)\n",
    "    \n",
    "output_0.append(int(output_b + 0.5))\n",
    "output_0"
   ]
  },
  {
   "cell_type": "code",
   "execution_count": 18,
   "id": "456b29ff-310d-4167-b4bb-34f30e85093c",
   "metadata": {},
   "outputs": [
    {
     "name": "stdout",
     "output_type": "stream",
     "text": [
      "- Red: \n",
      "6 0.03571428571428571 0.21428571428571427 -> 0.21428571428571427\n",
      "9 0.10714285714285714 0.9642857142857142 -> 1.1785714285714284\n",
      "12 0.17857142857142858 2.142857142857143 -> 3.321428571428571\n",
      "15 0.25 3.75 -> 7.071428571428571\n",
      "18 0.25 4.5 -> 11.571428571428571\n",
      "21 0.17857142857142858 3.75 -> 15.321428571428571\n",
      "- Green: \n",
      "7 0.03571428571428571 0.25 -> 0.25\n",
      "10 0.10714285714285714 1.0714285714285714 -> 1.3214285714285714\n",
      "13 0.17857142857142858 2.3214285714285716 -> 3.6428571428571432\n",
      "16 0.25 4.0 -> 7.642857142857143\n",
      "19 0.25 4.75 -> 12.392857142857142\n",
      "22 0.17857142857142858 3.928571428571429 -> 16.32142857142857\n",
      "- Blue: \n",
      "8 0.03571428571428571 0.2857142857142857 -> 0.2857142857142857\n",
      "11 0.10714285714285714 1.1785714285714286 -> 1.4642857142857144\n",
      "14 0.17857142857142858 2.5 -> 3.9642857142857144\n",
      "17 0.25 4.25 -> 8.214285714285715\n",
      "20 0.25 5.0 -> 13.214285714285715\n",
      "23 0.17857142857142858 4.107142857142858 -> 17.321428571428573\n"
     ]
    },
    {
     "data": {
      "text/plain": [
       "[15, 16, 17]"
      ]
     },
     "execution_count": 18,
     "metadata": {},
     "output_type": "execute_result"
    }
   ],
   "source": [
    "output_1 = []\n",
    "\n",
    "print(\"- Red: \")\n",
    "output_r = 0.0\n",
    "input_r = input_line[::4]  # [0, 3, 6, 9, 12, 15, 18, 21]\n",
    "for i in range(xsize_1):\n",
    "    r = input_r[i + xmin_1]\n",
    "    w = weights_1[i]\n",
    "    output_r += r * w\n",
    "    print(r, w, r * w, \"->\", output_r)\n",
    "    \n",
    "output_1.append(int(output_r + 0.5))\n",
    "\n",
    "print(\"- Green: \")\n",
    "output_g = 0.0\n",
    "input_g = input_line[1::4]  # [0, 3, 6, 9, 12, 15, 18, 21]\n",
    "for i in range(xsize_1):\n",
    "    g = input_g[i + xmin_1]\n",
    "    w = weights_1[i]\n",
    "    output_g += g * w\n",
    "    print(g, w, g * w, \"->\", output_g)\n",
    "    \n",
    "output_1.append(int(output_g + 0.5))\n",
    "\n",
    "print(\"- Blue: \")\n",
    "output_b = 0.0\n",
    "input_b = input_line[2::4]  # [0, 3, 6, 9, 12, 15, 18, 21]\n",
    "for i in range(xsize_1):\n",
    "    b = input_b[i + xmin_1]\n",
    "    w = weights_1[i]\n",
    "    output_b += b * w\n",
    "    print(b, w, b * w, \"->\", output_b)\n",
    "    \n",
    "output_1.append(int(output_b + 0.5))\n",
    "output_1"
   ]
  },
  {
   "cell_type": "code",
   "execution_count": null,
   "id": "c9acda42-3c5a-4bc7-bb36-a8e31450be7d",
   "metadata": {},
   "outputs": [],
   "source": []
  },
  {
   "cell_type": "code",
   "execution_count": null,
   "id": "7cc780a5-6a43-4242-a61b-6645a32f7993",
   "metadata": {},
   "outputs": [],
   "source": []
  },
  {
   "cell_type": "code",
   "execution_count": null,
   "id": "6881d7b9-87dc-467a-a1ae-3d55755944f7",
   "metadata": {},
   "outputs": [],
   "source": []
  },
  {
   "cell_type": "code",
   "execution_count": null,
   "id": "2de578cd-0e87-429c-814c-d7da1403c389",
   "metadata": {},
   "outputs": [],
   "source": []
  },
  {
   "cell_type": "markdown",
   "id": "78cf1a78-6146-4c95-9dcc-b82464348b6a",
   "metadata": {},
   "source": [
    "## Weights normalization\n",
    "\n",
    "- https://github.com/uploadcare/pillow-simd/blob/668aa48d12305b8f093958792a5e4f690c2583d6/src/libImaging/Resample.c#L275"
   ]
  },
  {
   "cell_type": "markdown",
   "id": "c7eff2ba-7785-4b3b-a41f-dbe336c0beaa",
   "metadata": {},
   "source": [
    "```\n",
    "    for (coefs_precision = 0; coefs_precision < PRECISION_BITS; coefs_precision += 1) {\n",
    "        int next_value = (int) (0.5 + maxkk * (1 << (coefs_precision + 1)));\n",
    "        // The next value will be outside of the range, so just stop\n",
    "        if (next_value >= (1 << MAX_COEFS_PRECISION))\n",
    "            break;\n",
    "    }\n",
    "```"
   ]
  },
  {
   "cell_type": "code",
   "execution_count": 6,
   "id": "27b998c8-b0ce-442b-998b-795505a865b9",
   "metadata": {},
   "outputs": [],
   "source": [
    "maxkk_list = [0.001, 0.01, 0.1, 0.25, 0.5, 0.75, 0.99, 0.999]"
   ]
  },
  {
   "cell_type": "code",
   "execution_count": 11,
   "id": "d68ec12c-6cb1-4641-8d39-6e27b678955a",
   "metadata": {},
   "outputs": [
    {
     "name": "stdout",
     "output_type": "stream",
     "text": [
      "0.001 33 32768\n",
      "0.01 328 32768\n",
      "0.1 3277 32768\n",
      "0.25 8192 32768\n",
      "0.5 16384 32768\n",
      "0.75 24576 32768\n",
      "0.99 32440 32768\n",
      "0.999 32735 32768\n"
     ]
    }
   ],
   "source": [
    "c = 14\n",
    "max_value = 1 << 15\n",
    "for maxkk in maxkk_list:\n",
    "    value = int(0.5 + maxkk * (1 << (c + 1)))\n",
    "    print(maxkk, value, max_value)"
   ]
  },
  {
   "cell_type": "code",
   "execution_count": 15,
   "id": "7f559869-40d4-4b6a-9406-88ab42c1d42b",
   "metadata": {},
   "outputs": [
    {
     "data": {
      "text/plain": [
       "True"
      ]
     },
     "execution_count": 15,
     "metadata": {},
     "output_type": "execute_result"
    }
   ],
   "source": [
    "c = 14\n",
    "int(0.5 + (1 << (c + 1))) == 1 << 15"
   ]
  },
  {
   "cell_type": "code",
   "execution_count": null,
   "id": "6e7f998f-2120-4140-8a53-a6fc56e6eb77",
   "metadata": {},
   "outputs": [],
   "source": []
  },
  {
   "cell_type": "code",
   "execution_count": null,
   "id": "6dc642db-272c-475c-97cd-847928843bf6",
   "metadata": {},
   "outputs": [],
   "source": []
  },
  {
   "cell_type": "code",
   "execution_count": null,
   "id": "7d1056c6-ca11-4c77-afcb-470b319a1b20",
   "metadata": {},
   "outputs": [],
   "source": []
  },
  {
   "cell_type": "code",
   "execution_count": null,
   "id": "9709cc5c-4002-4e65-9244-7c3eac1559b9",
   "metadata": {},
   "outputs": [],
   "source": []
  },
  {
   "cell_type": "code",
   "execution_count": null,
   "id": "26358a4f-8c8b-4f2b-becb-fb2e3eb6caf3",
   "metadata": {},
   "outputs": [],
   "source": []
  },
  {
   "cell_type": "code",
   "execution_count": 4,
   "id": "1c13623f-cef9-49b6-ae3f-1aed929babc1",
   "metadata": {},
   "outputs": [
    {
     "name": "stdout",
     "output_type": "stream",
     "text": [
      "[0, 1, 2, 255, 3, 4, 5, 255, 6, 7, 8, 255, 9, 10, 11, 255, 12, 13, 14, 255, 15, 16, 17, 255, 18, 19, 20, 255, 21, 22, 23, 255, 24, 25, 26, 255]\n",
      "[27, 28, 29, 255, 30, 31, 32, 255, 33, 34, 35, 255, 36, 37, 38, 255, 39, 40, 41, 255, 42, 43, 44, 255, 45, 46, 47, 255, 48, 49, 50, 255, 51, 52, 53, 255]\n",
      "[54, 55, 56, 255, 57, 58, 59, 255, 60, 61, 62, 255, 63, 64, 65, 255, 66, 67, 68, 255, 69, 70, 71, 255, 72, 73, 74, 255, 75, 76, 77, 255, 78, 79, 80, 255]\n",
      "[81, 82, 83, 255, 84, 85, 86, 255, 87, 88, 89, 255, 90, 91, 92, 255, 93, 94, 95, 255, 96, 97, 98, 255, 99, 100, 101, 255, 102, 103, 104, 255, 105, 106, 107, 255]\n",
      "[108, 109, 110, 255, 111, 112, 113, 255, 114, 115, 116, 255, 117, 118, 119, 255, 120, 121, 122, 255, 123, 124, 125, 255, 126, 127, 128, 255, 129, 130, 131, 255, 132, 133, 134, 255]\n",
      "[135, 136, 137, 255, 138, 139, 140, 255, 141, 142, 143, 255, 144, 145, 146, 255, 147, 148, 149, 255, 150, 151, 152, 255, 153, 154, 155, 255, 156, 157, 158, 255, 159, 160, 161, 255]\n",
      "[162, 163, 164, 255, 165, 166, 167, 255, 168, 169, 170, 255, 171, 172, 173, 255, 174, 175, 176, 255, 177, 178, 179, 255, 180, 181, 182, 255, 183, 184, 185, 255, 186, 187, 188, 255]\n",
      "[189, 190, 191, 255, 192, 193, 194, 255, 195, 196, 197, 255, 198, 199, 200, 255, 201, 202, 203, 255, 204, 205, 206, 255, 207, 208, 209, 255, 210, 211, 212, 255, 213, 214, 215, 255]\n"
     ]
    }
   ],
   "source": [
    "a = list(range(8 * 9 * 3))\n",
    "s = 9 * 3\n",
    "for i in range(8):\n",
    "    b = []\n",
    "    for i, v in enumerate(a[s * i:s * (i + 1)]):\n",
    "        if i > 0 and i % 3 == 0:\n",
    "            b.append(255)\n",
    "            b.append(v)\n",
    "        else:\n",
    "            b.append(v)\n",
    "    b.append(255)\n",
    "    print(b)"
   ]
  },
  {
   "cell_type": "code",
   "execution_count": 8,
   "id": "0193fec1-4e0f-4a56-9ef6-3a378938b041",
   "metadata": {},
   "outputs": [
    {
     "name": "stdout",
     "output_type": "stream",
     "text": [
      "[0, 1, 2, 3, 4, 5, 6, 7, 8, 9, 10, 11, 12, 13, 14, 15, 16, 17, 18, 19, 20, 21, 22, 23, 24, 25, 26]\n",
      "[27, 28, 29, 30, 31, 32, 33, 34, 35, 36, 37, 38, 39, 40, 41, 42, 43, 44, 45, 46, 47, 48, 49, 50, 51, 52, 53]\n",
      "[54, 55, 56, 57, 58, 59, 60, 61, 62, 63, 64, 65, 66, 67, 68, 69, 70, 71, 72, 73, 74, 75, 76, 77, 78, 79, 80]\n",
      "[81, 82, 83, 84, 85, 86, 87, 88, 89, 90, 91, 92, 93, 94, 95, 96, 97, 98, 99, 100, 101, 102, 103, 104, 105, 106, 107]\n",
      "[108, 109, 110, 111, 112, 113, 114, 115, 116, 117, 118, 119, 120, 121, 122, 123, 124, 125, 126, 127, 128, 129, 130, 131, 132, 133, 134]\n",
      "[135, 136, 137, 138, 139, 140, 141, 142, 143, 144, 145, 146, 147, 148, 149, 150, 151, 152, 153, 154, 155, 156, 157, 158, 159, 160, 161]\n",
      "[162, 163, 164, 165, 166, 167, 168, 169, 170, 171, 172, 173, 174, 175, 176, 177, 178, 179, 180, 181, 182, 183, 184, 185, 186, 187, 188]\n",
      "[189, 190, 191, 192, 193, 194, 195, 196, 197, 198, 199, 200, 201, 202, 203, 204, 205, 206, 207, 208, 209, 210, 211, 212, 213, 214, 215]\n"
     ]
    }
   ],
   "source": [
    "a = list(range(8 * 9 * 3))\n",
    "s = 9 * 3\n",
    "for i in range(8):\n",
    "    b = []\n",
    "    for i, v in enumerate(a[s * i:s * (i + 1)]):\n",
    "        b.append(v)\n",
    "    print(b)"
   ]
  },
  {
   "cell_type": "code",
   "execution_count": null,
   "id": "baec6e8e-ad71-40c2-bf55-6b7dcac4b773",
   "metadata": {},
   "outputs": [],
   "source": []
  },
  {
   "cell_type": "code",
   "execution_count": null,
   "id": "01d1cd4b-493b-4556-b814-c9dfb72848ec",
   "metadata": {},
   "outputs": [],
   "source": []
  },
  {
   "cell_type": "code",
   "execution_count": 10,
   "id": "0346a6a3-692b-46aa-8efc-bba22532f5e9",
   "metadata": {},
   "outputs": [],
   "source": [
    "import torch\n",
    "\n",
    "x = torch.randint(0, 256, size=(1, 3, 32, 32), dtype=torch.uint8)"
   ]
  },
  {
   "cell_type": "code",
   "execution_count": null,
   "id": "d489bacb-a6ea-4bc9-bc94-c18e51b46ea9",
   "metadata": {},
   "outputs": [],
   "source": []
  },
  {
   "cell_type": "code",
   "execution_count": null,
   "id": "985f944d-d6ce-42a1-85cd-abca62abde47",
   "metadata": {},
   "outputs": [],
   "source": []
  },
  {
   "cell_type": "markdown",
   "id": "b758de49-d1de-452c-9924-d2ba531adc34",
   "metadata": {},
   "source": [
    "```\n",
    "// lineIn0 + stride * (x + xmin) + 16 <= lineIn0 + stride * (xmax + xmin)\n",
    "// --> x <= xmax - 16.0 / stride --> x < xmax + 1 - 16.0 / stride\n",
    "\n",
    "\n",
    "// const auto b4_xmax = int(xmax - 16.0 / stride + 1 + 0.5);\n",
    "```"
   ]
  },
  {
   "cell_type": "code",
   "execution_count": 34,
   "id": "cd6c2030-fea2-444b-8b2a-ba6639becb92",
   "metadata": {},
   "outputs": [
    {
     "data": {
      "text/plain": [
       "7.0"
      ]
     },
     "execution_count": 34,
     "metadata": {},
     "output_type": "execute_result"
    }
   ],
   "source": [
    "10 + 1 - 16.0 / 4"
   ]
  },
  {
   "cell_type": "code",
   "execution_count": 37,
   "id": "1d321daa-7923-4a76-8d5e-87202700e906",
   "metadata": {},
   "outputs": [],
   "source": [
    "from math import floor\n",
    "\n",
    "for xmax in range(4, 100):\n",
    "    for size in [16.0, 8.0]:\n",
    "        for stride in [3, 4]:\n",
    "            v0 = xmax + 1 - size / stride\n",
    "            v1 = xmax + 1 - int(size / stride)\n",
    "            assert v0 <= v1 and v0 + 1 > v1, (v0, v1)"
   ]
  },
  {
   "cell_type": "code",
   "execution_count": 28,
   "id": "478c852a-a641-40f7-909d-e49ad6b31285",
   "metadata": {},
   "outputs": [
    {
     "data": {
      "text/plain": [
       "1"
      ]
     },
     "execution_count": 28,
     "metadata": {},
     "output_type": "execute_result"
    }
   ],
   "source": [
    "\n",
    "\n",
    "ceil(1 + 0.0)"
   ]
  },
  {
   "cell_type": "code",
   "execution_count": null,
   "id": "4acf4f8e-9b1b-45d8-ae51-beb04deb0c87",
   "metadata": {},
   "outputs": [],
   "source": []
  },
  {
   "cell_type": "code",
   "execution_count": 18,
   "id": "f5f9533b-8d70-4ac5-b662-64afbeeb02dd",
   "metadata": {},
   "outputs": [],
   "source": [
    "stride = 4\n",
    "\n",
    "for xmax in range(4, 200):\n",
    "\n",
    "    b4_xmax = int(xmax - 16.0 / stride + 1 + 0.5)\n",
    "    b4_max = int(16.0 / stride + 0.5)\n",
    "    # b4_xmax, xmax - 3, b4_max, xmax - b4_max\n",
    "    assert b4_xmax == xmax - b4_max + 1, (xmax, b4_xmax, xmax - b4_max + 1, b4_max)"
   ]
  },
  {
   "cell_type": "code",
   "execution_count": null,
   "id": "75556d82-17c1-4936-b1a7-5e756da9b49c",
   "metadata": {},
   "outputs": [],
   "source": []
  },
  {
   "cell_type": "code",
   "execution_count": 20,
   "id": "c16d043c-b2fd-404b-bf99-3f18f390085e",
   "metadata": {},
   "outputs": [
    {
     "data": {
      "text/plain": [
       "(7, 7)"
      ]
     },
     "execution_count": 20,
     "metadata": {},
     "output_type": "execute_result"
    }
   ],
   "source": [
    "xmax = 10\n",
    "stride = 4\n",
    "\n",
    "b4_xmax = int(xmax - 16.0 / stride + 1 + 0.5)\n",
    "b4_max = int(16.0 / stride + 0.5)\n",
    "b4_xmax, xmax - b4_max + 1"
   ]
  },
  {
   "cell_type": "code",
   "execution_count": 22,
   "id": "5e3ad056-8cf1-452c-902c-3fd9ca58e407",
   "metadata": {},
   "outputs": [
    {
     "data": {
      "text/plain": [
       "4"
      ]
     },
     "execution_count": 22,
     "metadata": {},
     "output_type": "execute_result"
    }
   ],
   "source": [
    "int(16.0 / stride + 0.5)"
   ]
  },
  {
   "cell_type": "code",
   "execution_count": null,
   "id": "90824827-9208-489d-9890-8b8f65989d29",
   "metadata": {},
   "outputs": [],
   "source": []
  },
  {
   "cell_type": "code",
   "execution_count": null,
   "id": "8b3c6ae3-3125-48b3-a863-efe9d3f3067b",
   "metadata": {},
   "outputs": [],
   "source": []
  },
  {
   "cell_type": "code",
   "execution_count": null,
   "id": "1b00ef28-0ee5-452c-a368-e15fec8e9d53",
   "metadata": {},
   "outputs": [],
   "source": []
  },
  {
   "cell_type": "code",
   "execution_count": 16,
   "id": "7c9f0c49-85da-4fa2-93d3-6b832cbfce7d",
   "metadata": {},
   "outputs": [],
   "source": [
    "stride = 3\n",
    "\n",
    "for xmax in range(4, 100):\n",
    "\n",
    "    b4_xmax = int(xmax - 16.0 / stride + 1 + 0.5)\n",
    "    b4_max = int(16.0 / stride + 0.5)\n",
    "    # b4_xmax, xmax - 3, b4_max, xmax - b4_max\n",
    "    assert b4_xmax == xmax - b4_max + 1, (xmax, b4_xmax, xmax - b4_max + 1, b4_max)"
   ]
  },
  {
   "cell_type": "code",
   "execution_count": null,
   "id": "ace6781f-ea57-48a6-aa16-7920e8b5f0cc",
   "metadata": {},
   "outputs": [],
   "source": []
  },
  {
   "cell_type": "code",
   "execution_count": null,
   "id": "88612671-6b65-49a4-bb0f-3aeaecae0848",
   "metadata": {},
   "outputs": [],
   "source": []
  },
  {
   "cell_type": "code",
   "execution_count": null,
   "id": "b32b5b6b-82aa-4c8d-a5f8-c1a3426e5b56",
   "metadata": {},
   "outputs": [],
   "source": []
  }
 ],
 "metadata": {
  "kernelspec": {
   "display_name": "Python 3 (ipykernel)",
   "language": "python",
   "name": "python3"
  },
  "language_info": {
   "codemirror_mode": {
    "name": "ipython",
    "version": 3
   },
   "file_extension": ".py",
   "mimetype": "text/x-python",
   "name": "python",
   "nbconvert_exporter": "python",
   "pygments_lexer": "ipython3",
   "version": "3.9.12"
  }
 },
 "nbformat": 4,
 "nbformat_minor": 5
}
