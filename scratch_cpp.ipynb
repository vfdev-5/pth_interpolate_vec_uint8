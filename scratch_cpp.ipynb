{
 "cells": [
  {
   "cell_type": "markdown",
   "id": "96de2b3a-b24f-41da-b83b-70179a475309",
   "metadata": {},
   "source": [
    "---\n",
    "Setup"
   ]
  },
  {
   "cell_type": "code",
   "execution_count": 1,
   "id": "1258beb9-2e53-4d6e-baf3-05c4f0942f19",
   "metadata": {},
   "outputs": [
    {
     "name": "stdout",
     "output_type": "stream",
     "text": [
      "__version__ = '2.0.0a0+git7f72623'\n",
      "debug = False\n",
      "cuda = None\n",
      "git_version = '7f72623c084769ef560af35e2a0178c06492f24f'\n",
      "hip = None\n"
     ]
    }
   ],
   "source": [
    "!cat /home/project/ml/pytorch/torch/version.py"
   ]
  },
  {
   "cell_type": "code",
   "execution_count": null,
   "id": "5e55ea6b-ce05-4c79-8434-10359ce636d4",
   "metadata": {},
   "outputs": [],
   "source": []
  },
  {
   "cell_type": "code",
   "execution_count": 2,
   "id": "fc5d6bdc-7c57-4c80-a6c2-fbc3d360c05f",
   "metadata": {},
   "outputs": [],
   "source": [
    "#pragma cling add_include_path(\"/home/project/ml/pytorch/torch/include\")\n",
    "#pragma cling add_include_path(\"/home/project/ml/pytorch/torch/include/torch/csrc/api/include\")\n",
    "// If you want to add library path\n",
    "#pragma cling add_library_path(\"/home/project/ml/pytorch/torch/lib\")\n",
    "// If you want to load library\n",
    "#pragma cling load(\"libtorch\")\n",
    "#pragma cling load(\"libtorch_cpu\")\n",
    "#pragma cling load(\"libc10\")"
   ]
  },
  {
   "cell_type": "markdown",
   "id": "9fdbf497-0b90-43ee-8d6b-e96cb4bd16f1",
   "metadata": {},
   "source": [
    "----\n",
    "\n",
    "Test"
   ]
  },
  {
   "cell_type": "code",
   "execution_count": 3,
   "id": "1a14b0c7-3bdb-4405-bf74-c512cacad9e3",
   "metadata": {},
   "outputs": [
    {
     "name": "stdout",
     "output_type": "stream",
     "text": [
      "CPUFloatType\n",
      " 1  1  1  1\n",
      " 1  1  1  1\n",
      " 1  1  1  1\n",
      "[ CPUFloatType{3,4} ]\n"
     ]
    }
   ],
   "source": [
    "#include <iostream>\n",
    "#include <ATen/ATen.h>\n",
    "\n",
    "auto p = at::CPU(at::kFloat);\n",
    "std::cout << p << \"\\n\";\n",
    "auto t = at::ones({3, 4}, p);\n",
    "std::cout << t << \"\\n\";"
   ]
  },
  {
   "cell_type": "code",
   "execution_count": 4,
   "id": "6a6e767b-d06e-4638-b0ed-bff173e5678e",
   "metadata": {},
   "outputs": [
    {
     "name": "stdout",
     "output_type": "stream",
     "text": [
      "[3, 4]"
     ]
    },
    {
     "data": {
      "text/plain": [
       "@0x7f0c2c693b60"
      ]
     },
     "execution_count": 4,
     "metadata": {},
     "output_type": "execute_result"
    }
   ],
   "source": [
    "std::cout << t.sizes()"
   ]
  },
  {
   "cell_type": "code",
   "execution_count": 5,
   "id": "8b32efd3-6ff2-4b2a-8a9f-f432288dc1f9",
   "metadata": {},
   "outputs": [
    {
     "data": {
      "text/plain": [
       "2"
      ]
     },
     "execution_count": 5,
     "metadata": {},
     "output_type": "execute_result"
    }
   ],
   "source": [
    "t.dim()"
   ]
  },
  {
   "cell_type": "code",
   "execution_count": 6,
   "id": "67026688-e298-4b5d-8fa4-80d99a2da8d1",
   "metadata": {},
   "outputs": [
    {
     "data": {
      "text/plain": [
       "@0x7f0c2c693b60"
      ]
     },
     "execution_count": 6,
     "metadata": {},
     "output_type": "execute_result"
    }
   ],
   "source": [
    "std::cout << t.dtype()"
   ]
  },
  {
   "cell_type": "code",
   "execution_count": null,
   "id": "cffc387b-4e96-4c4d-8bd7-c73c668f3780",
   "metadata": {},
   "outputs": [],
   "source": []
  },
  {
   "cell_type": "code",
   "execution_count": 9,
   "id": "0b826f57-efed-43a0-86cc-2fa02e65c172",
   "metadata": {},
   "outputs": [
    {
     "name": "stderr",
     "output_type": "stream",
     "text": [
      "input_line_20:2:4: error: no member named 'is_empty' in 'at::Tensor'\n",
      " t.is_empty()\n",
      " ~ ^\n"
     ]
    },
    {
     "ename": "Interpreter Error",
     "evalue": "",
     "output_type": "error",
     "traceback": [
      "Interpreter Error: "
     ]
    }
   ],
   "source": [
    "t.is_empty()"
   ]
  },
  {
   "cell_type": "code",
   "execution_count": null,
   "id": "75c49410-1843-4742-b5ee-9afe171b5c5f",
   "metadata": {},
   "outputs": [],
   "source": []
  },
  {
   "cell_type": "code",
   "execution_count": null,
   "id": "6402bf59-bc65-433f-8c52-df0de5dc125b",
   "metadata": {},
   "outputs": [],
   "source": []
  },
  {
   "cell_type": "markdown",
   "id": "cce7295b-510a-40b6-9402-d2322d13018d",
   "metadata": {},
   "source": [
    "### Can we inplace replace float values by int ?\n",
    "\n",
    "like https://github.com/uploadcare/pillow-simd/blob/668aa48d12305b8f093958792a5e4f690c2583d6/src/libImaging/Resample.c#L282-L306\n",
    "\n",
    "```\n",
    "    // use the same buffer for normalized coefficients\n",
    "    INT16 *kk = (INT16 *) prekk;\n",
    "\n",
    "    maxkk = prekk[0];\n",
    "    for (x = 0; x < outSize * ksize; x++) {\n",
    "        if (maxkk < prekk[x]) {\n",
    "            maxkk = prekk[x];\n",
    "        }\n",
    "    }\n",
    "\n",
    "    for (coefs_precision = 0; coefs_precision < PRECISION_BITS; coefs_precision += 1) {\n",
    "        int next_value = (int) (0.5 + maxkk * (1 << (coefs_precision + 1)));\n",
    "        // The next value will be outside of the range, so just stop\n",
    "        if (next_value >= (1 << MAX_COEFS_PRECISION))\n",
    "            break;\n",
    "    }\n",
    "\n",
    "    for (x = 0; x < outSize * ksize; x++) {\n",
    "        if (prekk[x] < 0) {\n",
    "            kk[x] = (int) (-0.5 + prekk[x] * (1 << coefs_precision));\n",
    "        } else {\n",
    "            kk[x] = (int) (0.5 + prekk[x] * (1 << coefs_precision));\n",
    "        }\n",
    "    }\n",
    "    return coefs_precision;\n",
    "```"
   ]
  },
  {
   "cell_type": "code",
   "execution_count": 7,
   "id": "d27d5b0d-4e9d-4bff-812e-fc0a6a1bb577",
   "metadata": {},
   "outputs": [],
   "source": [
    "at::manual_seed(12);\n",
    "auto t = (at::rand(20) - 0.5) * 0.345;\n",
    "auto tt = t.clone();"
   ]
  },
  {
   "cell_type": "code",
   "execution_count": 8,
   "id": "1f186e6f-8d6c-4552-84b2-b345b36fd680",
   "metadata": {
    "tags": []
   },
   "outputs": [
    {
     "name": "stdout",
     "output_type": "stream",
     "text": [
      "-0.0118\n",
      "-0.0922\n",
      "-0.0163\n",
      " 0.0301\n",
      "-0.0315\n",
      "-0.1286\n",
      " 0.0474\n",
      "-0.0890\n",
      " 0.0798\n",
      " 0.0767\n",
      "-0.1038\n",
      " 0.0672\n",
      " 0.0286\n",
      " 0.0455\n",
      " 0.0193\n",
      "-0.1289\n",
      " 0.1653\n",
      " 0.1188\n",
      "-0.1292\n",
      "-0.0188\n",
      "[ CPUFloatType{20} ]"
     ]
    },
    {
     "data": {
      "text/plain": [
       "@0x7fe8ec920b60"
      ]
     },
     "execution_count": 8,
     "metadata": {},
     "output_type": "execute_result"
    }
   ],
   "source": [
    "std::cout << t"
   ]
  },
  {
   "cell_type": "code",
   "execution_count": 9,
   "id": "121c90bf-89bf-4584-86ad-c84f3f9524e2",
   "metadata": {},
   "outputs": [],
   "source": [
    "float tmax = t.max().item<float>();\n",
    "int weights_precision = 16;"
   ]
  },
  {
   "cell_type": "code",
   "execution_count": 10,
   "id": "030f89da-fbcf-4d72-9c12-366763da6c61",
   "metadata": {},
   "outputs": [
    {
     "data": {
      "text/plain": [
       "0.165265f"
      ]
     },
     "execution_count": 10,
     "metadata": {},
     "output_type": "execute_result"
    }
   ],
   "source": [
    "tmax"
   ]
  },
  {
   "cell_type": "code",
   "execution_count": 11,
   "id": "f46e6a5a-72cd-4d1d-9b82-a55ef490491b",
   "metadata": {},
   "outputs": [
    {
     "data": {
      "text/plain": [
       "16"
      ]
     },
     "execution_count": 11,
     "metadata": {},
     "output_type": "execute_result"
    }
   ],
   "source": [
    "weights_precision"
   ]
  },
  {
   "cell_type": "code",
   "execution_count": 12,
   "id": "48eecb16-35ff-4c18-85c2-061371c843b2",
   "metadata": {},
   "outputs": [],
   "source": [
    "short * data_i16 = (short*) t.data_ptr<float>();\n",
    "float * data_f32 = t.data_ptr<float>();"
   ]
  },
  {
   "cell_type": "code",
   "execution_count": 13,
   "id": "994bf0f6-53e5-420a-a816-3bbac8b35f87",
   "metadata": {},
   "outputs": [
    {
     "data": {
      "text/plain": [
       "-0.0118378f"
      ]
     },
     "execution_count": 13,
     "metadata": {},
     "output_type": "execute_result"
    }
   ],
   "source": [
    "data_f32[0]"
   ]
  },
  {
   "cell_type": "code",
   "execution_count": 14,
   "id": "bac43bda-3b8f-4273-a880-be9a58fd575a",
   "metadata": {},
   "outputs": [
    {
     "data": {
      "text/plain": [
       "-3213"
      ]
     },
     "execution_count": 14,
     "metadata": {},
     "output_type": "execute_result"
    }
   ],
   "source": [
    "data_i16[0]"
   ]
  },
  {
   "cell_type": "code",
   "execution_count": 15,
   "id": "6674a16c-ca9b-4781-96f7-dc505133ff80",
   "metadata": {},
   "outputs": [
    {
     "name": "stdout",
     "output_type": "stream",
     "text": [
      "-776\n",
      "-6042\n",
      "-1069\n",
      "1970\n",
      "-2066\n",
      "-8430\n",
      "3104\n",
      "-5832\n",
      "5227\n",
      "5029\n",
      "-6800\n",
      "4405\n",
      "1877\n",
      "2981\n",
      "1264\n",
      "-8450\n",
      "10831\n",
      "7784\n",
      "-8465\n",
      "-1229\n"
     ]
    }
   ],
   "source": [
    "for (int i=0; i<20; i++) {\n",
    "    float v = data_f32[i];\n",
    "    if (v < 0) {\n",
    "        data_i16[i] = (int) (-0.5 + v * (1 << weights_precision));\n",
    "    } else {\n",
    "        data_i16[i] = (int) (0.5 + v * (1 << weights_precision));\n",
    "    }    \n",
    "    std::cout << data_i16[i] << std::endl;\n",
    "}"
   ]
  },
  {
   "cell_type": "code",
   "execution_count": 25,
   "id": "ac084f78-dd32-4541-a35f-aa73107d2e05",
   "metadata": {},
   "outputs": [
    {
     "data": {
      "text/plain": [
       "4.9360000"
      ]
     },
     "execution_count": 25,
     "metadata": {},
     "output_type": "execute_result"
    }
   ],
   "source": [
    "1.234 * (1 << 2)"
   ]
  },
  {
   "cell_type": "code",
   "execution_count": 31,
   "id": "6a444241-5bbf-43c2-86d6-53652fd700b0",
   "metadata": {},
   "outputs": [
    {
     "name": "stdout",
     "output_type": "stream",
     "text": [
      "-0.0118408 -0.0118378\n",
      "-0.0921936 -0.0921955\n",
      "-0.0163116 -0.0163113\n",
      "0.0300598 0.0300537\n",
      "-0.0315247 -0.0315176\n",
      "-0.128632 -0.128625\n",
      "0.0473633 0.0473628\n",
      "-0.0889893 -0.0889887\n",
      "0.0797577 0.0797607\n",
      "0.0767365 0.0767411\n",
      "-0.10376 -0.103764\n",
      "0.067215 0.0672154\n",
      "0.0286407 0.0286361\n",
      "0.0454865 0.0454809\n",
      "0.0192871 0.0192807\n",
      "-0.128937 -0.128944\n",
      "0.165268 0.165265\n",
      "0.118774 0.118772\n",
      "-0.129166 -0.129173\n",
      "-0.0187531 -0.0187604\n"
     ]
    }
   ],
   "source": [
    "float * tt_f32 = tt.data_ptr<float>();\n",
    "\n",
    "for (int i=0; i<20; i++) {\n",
    "    short v = data_i16[i];\n",
    "    float w = tt_f32[i];\n",
    "    auto f32 = float(v) / (1 << weights_precision);\n",
    "    std::cout << f32 << \" \" << w << std::endl;\n",
    "}"
   ]
  },
  {
   "cell_type": "code",
   "execution_count": null,
   "id": "c00aac12-6e82-4630-8405-18359f103b05",
   "metadata": {},
   "outputs": [],
   "source": []
  },
  {
   "cell_type": "code",
   "execution_count": 32,
   "id": "3a6c02eb-5cfe-4767-b191-0ef905a16db6",
   "metadata": {},
   "outputs": [
    {
     "data": {
      "text/plain": [
       "0"
      ]
     },
     "execution_count": 32,
     "metadata": {},
     "output_type": "execute_result"
    }
   ],
   "source": [
    "short a = 0;\n",
    "a"
   ]
  },
  {
   "cell_type": "code",
   "execution_count": 33,
   "id": "1129a882-cd1a-4553-bac9-22e52dfe2bb1",
   "metadata": {},
   "outputs": [
    {
     "name": "stderr",
     "output_type": "stream",
     "text": [
      "input_line_58:2:8: warning: implicit conversion from 'int' to 'short' changes value from 32768 to -32768 [-Wconstant-conversion]\n",
      " a = 1 << 15;\n",
      "   ~ ~~^~~~~\n"
     ]
    },
    {
     "data": {
      "text/plain": [
       "-32768"
      ]
     },
     "execution_count": 33,
     "metadata": {},
     "output_type": "execute_result"
    }
   ],
   "source": [
    "a = 1 << 15;\n",
    "a"
   ]
  },
  {
   "cell_type": "code",
   "execution_count": 34,
   "id": "b279843d-3e5d-43ac-8b32-e01b1cf96abf",
   "metadata": {},
   "outputs": [],
   "source": [
    "unsigned short b = 1 << 15;"
   ]
  },
  {
   "cell_type": "code",
   "execution_count": 35,
   "id": "74889ec2-1370-491e-ab49-6c917a9f146b",
   "metadata": {},
   "outputs": [
    {
     "data": {
      "text/plain": [
       "32768"
      ]
     },
     "execution_count": 35,
     "metadata": {},
     "output_type": "execute_result"
    }
   ],
   "source": [
    "b"
   ]
  },
  {
   "cell_type": "code",
   "execution_count": null,
   "id": "1ec67532-1c17-4e35-be8d-6b0b870dc3f0",
   "metadata": {},
   "outputs": [],
   "source": []
  }
 ],
 "metadata": {
  "kernelspec": {
   "display_name": "C++14",
   "language": "C++14",
   "name": "xcpp14"
  },
  "language_info": {
   "codemirror_mode": "text/x-c++src",
   "file_extension": ".cpp",
   "mimetype": "text/x-c++src",
   "name": "c++",
   "version": "14"
  }
 },
 "nbformat": 4,
 "nbformat_minor": 5
}
