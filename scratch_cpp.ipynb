{
 "cells": [
  {
   "cell_type": "markdown",
   "id": "96de2b3a-b24f-41da-b83b-70179a475309",
   "metadata": {},
   "source": [
    "---\n",
    "Setup"
   ]
  },
  {
   "cell_type": "code",
   "execution_count": 1,
   "id": "1258beb9-2e53-4d6e-baf3-05c4f0942f19",
   "metadata": {},
   "outputs": [
    {
     "name": "stdout",
     "output_type": "stream",
     "text": [
      "__version__ = '2.1.0a0+gitd6e220c'\n",
      "debug = False\n",
      "cuda = None\n",
      "git_version = 'd6e220ce71078ce2b6f6770623cce74cb8a6434e'\n",
      "hip = None\n"
     ]
    }
   ],
   "source": [
    "!cat /home/project/ml/pytorch/torch/version.py"
   ]
  },
  {
   "cell_type": "code",
   "execution_count": null,
   "id": "5e55ea6b-ce05-4c79-8434-10359ce636d4",
   "metadata": {},
   "outputs": [],
   "source": []
  },
  {
   "cell_type": "code",
   "execution_count": 2,
   "id": "fc5d6bdc-7c57-4c80-a6c2-fbc3d360c05f",
   "metadata": {},
   "outputs": [],
   "source": [
    "#pragma cling add_include_path(\"/home/project/ml/pytorch/torch/include\")\n",
    "#pragma cling add_include_path(\"/home/project/ml/pytorch/torch/include/torch/csrc/api/include\")\n",
    "// If you want to add library path\n",
    "#pragma cling add_library_path(\"/home/project/ml/pytorch/torch/lib\")\n",
    "// If you want to load library\n",
    "#pragma cling load(\"libtorch\")\n",
    "#pragma cling load(\"libtorch_cpu\")\n",
    "#pragma cling load(\"libc10\")"
   ]
  },
  {
   "cell_type": "markdown",
   "id": "9fdbf497-0b90-43ee-8d6b-e96cb4bd16f1",
   "metadata": {},
   "source": [
    "----\n",
    "\n",
    "Test"
   ]
  },
  {
   "cell_type": "code",
   "execution_count": 3,
   "id": "1a14b0c7-3bdb-4405-bf74-c512cacad9e3",
   "metadata": {},
   "outputs": [
    {
     "name": "stdout",
     "output_type": "stream",
     "text": [
      "CPUFloatType\n",
      " 1  1  1  1\n",
      " 1  1  1  1\n",
      " 1  1  1  1\n",
      "[ CPUFloatType{3,4} ]\n"
     ]
    }
   ],
   "source": [
    "#include <iostream>\n",
    "#include <ATen/ATen.h>\n",
    "\n",
    "auto p = at::CPU(at::kFloat);\n",
    "std::cout << p << \"\\n\";\n",
    "auto t = at::ones({3, 4}, p);\n",
    "std::cout << t << \"\\n\";"
   ]
  },
  {
   "cell_type": "code",
   "execution_count": 4,
   "id": "6a6e767b-d06e-4638-b0ed-bff173e5678e",
   "metadata": {},
   "outputs": [
    {
     "name": "stdout",
     "output_type": "stream",
     "text": [
      "[3, 4]"
     ]
    },
    {
     "data": {
      "text/plain": [
       "@0x7fe51d3cfb60"
      ]
     },
     "execution_count": 4,
     "metadata": {},
     "output_type": "execute_result"
    }
   ],
   "source": [
    "std::cout << t.sizes()"
   ]
  },
  {
   "cell_type": "code",
   "execution_count": 5,
   "id": "8b32efd3-6ff2-4b2a-8a9f-f432288dc1f9",
   "metadata": {},
   "outputs": [
    {
     "data": {
      "text/plain": [
       "2"
      ]
     },
     "execution_count": 5,
     "metadata": {},
     "output_type": "execute_result"
    }
   ],
   "source": [
    "t.dim()"
   ]
  },
  {
   "cell_type": "code",
   "execution_count": 6,
   "id": "67026688-e298-4b5d-8fa4-80d99a2da8d1",
   "metadata": {},
   "outputs": [
    {
     "data": {
      "text/plain": [
       "@0x7fe51d3cfb60"
      ]
     },
     "execution_count": 6,
     "metadata": {},
     "output_type": "execute_result"
    }
   ],
   "source": [
    "std::cout << t.dtype()"
   ]
  },
  {
   "cell_type": "code",
   "execution_count": null,
   "id": "cffc387b-4e96-4c4d-8bd7-c73c668f3780",
   "metadata": {},
   "outputs": [],
   "source": []
  },
  {
   "cell_type": "code",
   "execution_count": 9,
   "id": "650872bb-3a2c-44bc-862b-a5ea2f944121",
   "metadata": {},
   "outputs": [],
   "source": [
    "auto t = at::rand({1, 3, 32, 32}).contiguous(at::MemoryFormat::ChannelsLast);"
   ]
  },
  {
   "cell_type": "code",
   "execution_count": 10,
   "id": "8a737da5-8e8e-4924-ae24-e2ade2032893",
   "metadata": {},
   "outputs": [
    {
     "name": "stdout",
     "output_type": "stream",
     "text": [
      "[1, 3, 32, 32]"
     ]
    },
    {
     "data": {
      "text/plain": [
       "@0x7fe51d3cfb60"
      ]
     },
     "execution_count": 10,
     "metadata": {},
     "output_type": "execute_result"
    }
   ],
   "source": [
    "std::cout << t.sizes()"
   ]
  },
  {
   "cell_type": "code",
   "execution_count": 11,
   "id": "08ef5f5f-c4aa-4aec-8473-e5c041700df8",
   "metadata": {},
   "outputs": [
    {
     "ename": "Standard Exception",
     "evalue": "Tensors of type TensorImpl do not have layout\nException raised from layout_custom at ../c10/core/TensorImpl.cpp:684 (most recent call first):\nframe #0: c10::Error::Error(c10::SourceLocation, std::__cxx11::basic_string<char, std::char_traits<char>, std::allocator<char> >) + 0x6c (0x7fe5190040ac in /home/project/ml/pytorch/torch/lib/libc10.so)\nframe #1: c10::detail::torchCheckFail(char const*, char const*, unsigned int, std::__cxx11::basic_string<char, std::char_traits<char>, std::allocator<char> > const&) + 0xfa (0x7fe518fc47d8 in /home/project/ml/pytorch/torch/lib/libc10.so)\nframe #2: c10::TensorImpl::layout_custom() const + 0x1af (0x7fe518fddedf in /home/project/ml/pytorch/torch/lib/libc10.so)\nframe #3: [0x7fe51b405cc1]\nframe #4: [0x7fe51b405a1e]\nframe #5: [0x7fe51b405691]\nframe #6: [0x7fe51b40403f]\nframe #7: cling::IncrementalExecutor::executeWrapper(llvm::StringRef, cling::Value*) const + 0x35d (0x7fe522a1dead in /opt/conda/envs/cling/bin/../lib/libxeus-cling.so.0)\nframe #8: cling::Interpreter::RunFunction(clang::FunctionDecl const*, cling::Value*) + 0x9f (0x7fe52297f76f in /opt/conda/envs/cling/bin/../lib/libxeus-cling.so.0)\nframe #9: cling::Interpreter::EvaluateInternal(std::__cxx11::basic_string<char, std::char_traits<char>, std::allocator<char> > const&, cling::CompilationOptions, cling::Value*, cling::Transaction**, unsigned long) + 0x1fc (0x7fe5229810dc in /opt/conda/envs/cling/bin/../lib/libxeus-cling.so.0)\nframe #10: cling::Interpreter::process(std::__cxx11::basic_string<char, std::char_traits<char>, std::allocator<char> > const&, cling::Value*, cling::Transaction**, bool) + 0x15e (0x7fe52298139e in /opt/conda/envs/cling/bin/../lib/libxeus-cling.so.0)\nframe #11: xcpp::interpreter::execute_request_impl(int, std::__cxx11::basic_string<char, std::char_traits<char>, std::allocator<char> > const&, bool, bool, nlohmann::basic_json<std::map, std::vector, std::__cxx11::basic_string<char, std::char_traits<char>, std::allocator<char> >, bool, long, unsigned long, double, std::allocator, nlohmann::adl_serializer, std::vector<unsigned char, std::allocator<unsigned char> > >, bool) + 0x2e4 (0x7fe522920334 in /opt/conda/envs/cling/bin/../lib/libxeus-cling.so.0)\nframe #12: xeus::xinterpreter::execute_request(std::__cxx11::basic_string<char, std::char_traits<char>, std::allocator<char> > const&, bool, bool, nlohmann::basic_json<std::map, std::vector, std::__cxx11::basic_string<char, std::char_traits<char>, std::allocator<char> >, bool, long, unsigned long, double, std::allocator, nlohmann::adl_serializer, std::vector<unsigned char, std::allocator<unsigned char> > >, bool) + 0xa5 (0x7fe51d41c595 in /opt/conda/envs/cling/bin/../lib/libxeus.so.8)\nframe #13: xeus::xkernel_core::execute_request(xeus::xmessage, xeus::channel) + 0x560 (0x7fe51d432e60 in /opt/conda/envs/cling/bin/../lib/libxeus.so.8)\nframe #14: xeus::xkernel_core::dispatch(xeus::xmessage, xeus::channel) + 0x226 (0x7fe51d432196 in /opt/conda/envs/cling/bin/../lib/libxeus.so.8)\nframe #15: xeus::xkernel_core::dispatch_shell(xeus::xmessage) + 0xdd (0x7fe51d43259d in /opt/conda/envs/cling/bin/../lib/libxeus.so.8)\nframe #16: <unknown function> + 0x5a2d1 (0x7fe51d42e2d1 in /opt/conda/envs/cling/bin/../lib/libxeus.so.8)\nframe #17: xeus::xserver::notify_shell_listener(xeus::xmessage) + 0xea (0x7fe51d44522a in /opt/conda/envs/cling/bin/../lib/libxeus.so.8)\nframe #18: xeus::xserver_zmq::poll(long) + 0x95b (0x7fe51d554f2b in /opt/conda/envs/cling/bin/../lib/libxeus-zmq.so.1)\nframe #19: xeus::xserver_zmq::start_impl(xeus::xpub_message) + 0x1d8 (0x7fe51d555668 in /opt/conda/envs/cling/bin/../lib/libxeus-zmq.so.1)\nframe #20: xeus::xserver::start(xeus::xpub_message) + 0x1b1 (0x7fe51d445771 in /opt/conda/envs/cling/bin/../lib/libxeus.so.8)\nframe #21: xeus::xkernel::start() + 0x160 (0x7fe51d41ebd0 in /opt/conda/envs/cling/bin/../lib/libxeus.so.8)\nframe #22: main + 0x31a (0x55ee4e0339aa in /opt/conda/envs/cling/bin/xcpp)\nframe #23: <unknown function> + 0x29d90 (0x7fe51d001d90 in /usr/lib/x86_64-linux-gnu/libc.so.6)\nframe #24: __libc_start_main + 0x80 (0x7fe51d001e40 in /usr/lib/x86_64-linux-gnu/libc.so.6)\nframe #25: <unknown function> + 0xb2ed (0x55ee4e0342ed in /opt/conda/envs/cling/bin/xcpp)\n",
     "output_type": "error",
     "traceback": [
      "Standard Exception: Tensors of type TensorImpl do not have layout\nException raised from layout_custom at ../c10/core/TensorImpl.cpp:684 (most recent call first):\nframe #0: c10::Error::Error(c10::SourceLocation, std::__cxx11::basic_string<char, std::char_traits<char>, std::allocator<char> >) + 0x6c (0x7fe5190040ac in /home/project/ml/pytorch/torch/lib/libc10.so)\nframe #1: c10::detail::torchCheckFail(char const*, char const*, unsigned int, std::__cxx11::basic_string<char, std::char_traits<char>, std::allocator<char> > const&) + 0xfa (0x7fe518fc47d8 in /home/project/ml/pytorch/torch/lib/libc10.so)\nframe #2: c10::TensorImpl::layout_custom() const + 0x1af (0x7fe518fddedf in /home/project/ml/pytorch/torch/lib/libc10.so)\nframe #3: [0x7fe51b405cc1]\nframe #4: [0x7fe51b405a1e]\nframe #5: [0x7fe51b405691]\nframe #6: [0x7fe51b40403f]\nframe #7: cling::IncrementalExecutor::executeWrapper(llvm::StringRef, cling::Value*) const + 0x35d (0x7fe522a1dead in /opt/conda/envs/cling/bin/../lib/libxeus-cling.so.0)\nframe #8: cling::Interpreter::RunFunction(clang::FunctionDecl const*, cling::Value*) + 0x9f (0x7fe52297f76f in /opt/conda/envs/cling/bin/../lib/libxeus-cling.so.0)\nframe #9: cling::Interpreter::EvaluateInternal(std::__cxx11::basic_string<char, std::char_traits<char>, std::allocator<char> > const&, cling::CompilationOptions, cling::Value*, cling::Transaction**, unsigned long) + 0x1fc (0x7fe5229810dc in /opt/conda/envs/cling/bin/../lib/libxeus-cling.so.0)\nframe #10: cling::Interpreter::process(std::__cxx11::basic_string<char, std::char_traits<char>, std::allocator<char> > const&, cling::Value*, cling::Transaction**, bool) + 0x15e (0x7fe52298139e in /opt/conda/envs/cling/bin/../lib/libxeus-cling.so.0)\nframe #11: xcpp::interpreter::execute_request_impl(int, std::__cxx11::basic_string<char, std::char_traits<char>, std::allocator<char> > const&, bool, bool, nlohmann::basic_json<std::map, std::vector, std::__cxx11::basic_string<char, std::char_traits<char>, std::allocator<char> >, bool, long, unsigned long, double, std::allocator, nlohmann::adl_serializer, std::vector<unsigned char, std::allocator<unsigned char> > >, bool) + 0x2e4 (0x7fe522920334 in /opt/conda/envs/cling/bin/../lib/libxeus-cling.so.0)\nframe #12: xeus::xinterpreter::execute_request(std::__cxx11::basic_string<char, std::char_traits<char>, std::allocator<char> > const&, bool, bool, nlohmann::basic_json<std::map, std::vector, std::__cxx11::basic_string<char, std::char_traits<char>, std::allocator<char> >, bool, long, unsigned long, double, std::allocator, nlohmann::adl_serializer, std::vector<unsigned char, std::allocator<unsigned char> > >, bool) + 0xa5 (0x7fe51d41c595 in /opt/conda/envs/cling/bin/../lib/libxeus.so.8)\nframe #13: xeus::xkernel_core::execute_request(xeus::xmessage, xeus::channel) + 0x560 (0x7fe51d432e60 in /opt/conda/envs/cling/bin/../lib/libxeus.so.8)\nframe #14: xeus::xkernel_core::dispatch(xeus::xmessage, xeus::channel) + 0x226 (0x7fe51d432196 in /opt/conda/envs/cling/bin/../lib/libxeus.so.8)\nframe #15: xeus::xkernel_core::dispatch_shell(xeus::xmessage) + 0xdd (0x7fe51d43259d in /opt/conda/envs/cling/bin/../lib/libxeus.so.8)\nframe #16: <unknown function> + 0x5a2d1 (0x7fe51d42e2d1 in /opt/conda/envs/cling/bin/../lib/libxeus.so.8)\nframe #17: xeus::xserver::notify_shell_listener(xeus::xmessage) + 0xea (0x7fe51d44522a in /opt/conda/envs/cling/bin/../lib/libxeus.so.8)\nframe #18: xeus::xserver_zmq::poll(long) + 0x95b (0x7fe51d554f2b in /opt/conda/envs/cling/bin/../lib/libxeus-zmq.so.1)\nframe #19: xeus::xserver_zmq::start_impl(xeus::xpub_message) + 0x1d8 (0x7fe51d555668 in /opt/conda/envs/cling/bin/../lib/libxeus-zmq.so.1)\nframe #20: xeus::xserver::start(xeus::xpub_message) + 0x1b1 (0x7fe51d445771 in /opt/conda/envs/cling/bin/../lib/libxeus.so.8)\nframe #21: xeus::xkernel::start() + 0x160 (0x7fe51d41ebd0 in /opt/conda/envs/cling/bin/../lib/libxeus.so.8)\nframe #22: main + 0x31a (0x55ee4e0339aa in /opt/conda/envs/cling/bin/xcpp)\nframe #23: <unknown function> + 0x29d90 (0x7fe51d001d90 in /usr/lib/x86_64-linux-gnu/libc.so.6)\nframe #24: __libc_start_main + 0x80 (0x7fe51d001e40 in /usr/lib/x86_64-linux-gnu/libc.so.6)\nframe #25: <unknown function> + 0xb2ed (0x55ee4e0342ed in /opt/conda/envs/cling/bin/xcpp)\n"
     ]
    }
   ],
   "source": [
    "std::cout << t.suggest_memory_format()"
   ]
  },
  {
   "cell_type": "code",
   "execution_count": null,
   "id": "6448ab8e-4b55-42eb-9ed2-dffd1ddf3b96",
   "metadata": {},
   "outputs": [],
   "source": [
    "> ChannelsLast\n",
    "std::cout << (t.is_contiguous(at::MemoryFormat::ChannelsLast) ? \"true\" : \"false\");\n",
    "> true\n",
    "\n",
    "auto t0 = t[0];\n",
    "auto t1 = t0.unsqueeze(0);\n",
    "std::cout << t0.sizes()\n",
    "> [3, 32, 32]\n",
    "std::cout << t1.sizes()\n",
    "> [1, 3, 32, 32]\n",
    "std::cout << (t1.is_contiguous(at::MemoryFormat::ChannelsLast) ? \"true\" : \"false\");\n",
    "> true\n",
    "std::cout << t1.suggest_memory_format()\n",
    "> Contiguous   <------ ????"
   ]
  },
  {
   "cell_type": "code",
   "execution_count": null,
   "id": "bfd07d77-78f8-45f7-931f-99fc72ea5018",
   "metadata": {},
   "outputs": [],
   "source": []
  },
  {
   "cell_type": "code",
   "execution_count": null,
   "id": "e0120525-dbd7-4679-ad4c-95ca7b940c7b",
   "metadata": {},
   "outputs": [],
   "source": []
  },
  {
   "cell_type": "code",
   "execution_count": null,
   "id": "42471f62-410e-45d8-afb2-b4ccddb746df",
   "metadata": {},
   "outputs": [],
   "source": []
  },
  {
   "cell_type": "code",
   "execution_count": null,
   "id": "01b05a9e-70bd-42a8-a865-6fefe84056cf",
   "metadata": {},
   "outputs": [],
   "source": []
  },
  {
   "cell_type": "code",
   "execution_count": null,
   "id": "75c49410-1843-4742-b5ee-9afe171b5c5f",
   "metadata": {},
   "outputs": [],
   "source": []
  },
  {
   "cell_type": "code",
   "execution_count": null,
   "id": "6402bf59-bc65-433f-8c52-df0de5dc125b",
   "metadata": {},
   "outputs": [],
   "source": []
  },
  {
   "cell_type": "markdown",
   "id": "cce7295b-510a-40b6-9402-d2322d13018d",
   "metadata": {},
   "source": [
    "### Can we inplace replace float values by int ?\n",
    "\n",
    "like https://github.com/uploadcare/pillow-simd/blob/668aa48d12305b8f093958792a5e4f690c2583d6/src/libImaging/Resample.c#L282-L306\n",
    "\n",
    "```\n",
    "    // use the same buffer for normalized coefficients\n",
    "    INT16 *kk = (INT16 *) prekk;\n",
    "\n",
    "    maxkk = prekk[0];\n",
    "    for (x = 0; x < outSize * ksize; x++) {\n",
    "        if (maxkk < prekk[x]) {\n",
    "            maxkk = prekk[x];\n",
    "        }\n",
    "    }\n",
    "\n",
    "    for (coefs_precision = 0; coefs_precision < PRECISION_BITS; coefs_precision += 1) {\n",
    "        int next_value = (int) (0.5 + maxkk * (1 << (coefs_precision + 1)));\n",
    "        // The next value will be outside of the range, so just stop\n",
    "        if (next_value >= (1 << MAX_COEFS_PRECISION))\n",
    "            break;\n",
    "    }\n",
    "\n",
    "    for (x = 0; x < outSize * ksize; x++) {\n",
    "        if (prekk[x] < 0) {\n",
    "            kk[x] = (int) (-0.5 + prekk[x] * (1 << coefs_precision));\n",
    "        } else {\n",
    "            kk[x] = (int) (0.5 + prekk[x] * (1 << coefs_precision));\n",
    "        }\n",
    "    }\n",
    "    return coefs_precision;\n",
    "```"
   ]
  },
  {
   "cell_type": "code",
   "execution_count": 7,
   "id": "d27d5b0d-4e9d-4bff-812e-fc0a6a1bb577",
   "metadata": {},
   "outputs": [],
   "source": [
    "at::manual_seed(12);\n",
    "auto t = (at::rand(20) - 0.5) * 0.345;\n",
    "auto tt = t.clone();"
   ]
  },
  {
   "cell_type": "code",
   "execution_count": 8,
   "id": "1f186e6f-8d6c-4552-84b2-b345b36fd680",
   "metadata": {
    "tags": []
   },
   "outputs": [
    {
     "name": "stdout",
     "output_type": "stream",
     "text": [
      "-0.0118\n",
      "-0.0922\n",
      "-0.0163\n",
      " 0.0301\n",
      "-0.0315\n",
      "-0.1286\n",
      " 0.0474\n",
      "-0.0890\n",
      " 0.0798\n",
      " 0.0767\n",
      "-0.1038\n",
      " 0.0672\n",
      " 0.0286\n",
      " 0.0455\n",
      " 0.0193\n",
      "-0.1289\n",
      " 0.1653\n",
      " 0.1188\n",
      "-0.1292\n",
      "-0.0188\n",
      "[ CPUFloatType{20} ]"
     ]
    },
    {
     "data": {
      "text/plain": [
       "@0x7fe8ec920b60"
      ]
     },
     "execution_count": 8,
     "metadata": {},
     "output_type": "execute_result"
    }
   ],
   "source": [
    "std::cout << t"
   ]
  },
  {
   "cell_type": "code",
   "execution_count": 9,
   "id": "121c90bf-89bf-4584-86ad-c84f3f9524e2",
   "metadata": {},
   "outputs": [],
   "source": [
    "float tmax = t.max().item<float>();\n",
    "int weights_precision = 16;"
   ]
  },
  {
   "cell_type": "code",
   "execution_count": 10,
   "id": "030f89da-fbcf-4d72-9c12-366763da6c61",
   "metadata": {},
   "outputs": [
    {
     "data": {
      "text/plain": [
       "0.165265f"
      ]
     },
     "execution_count": 10,
     "metadata": {},
     "output_type": "execute_result"
    }
   ],
   "source": [
    "tmax"
   ]
  },
  {
   "cell_type": "code",
   "execution_count": 11,
   "id": "f46e6a5a-72cd-4d1d-9b82-a55ef490491b",
   "metadata": {},
   "outputs": [
    {
     "data": {
      "text/plain": [
       "16"
      ]
     },
     "execution_count": 11,
     "metadata": {},
     "output_type": "execute_result"
    }
   ],
   "source": [
    "weights_precision"
   ]
  },
  {
   "cell_type": "code",
   "execution_count": 12,
   "id": "48eecb16-35ff-4c18-85c2-061371c843b2",
   "metadata": {},
   "outputs": [],
   "source": [
    "short * data_i16 = (short*) t.data_ptr<float>();\n",
    "float * data_f32 = t.data_ptr<float>();"
   ]
  },
  {
   "cell_type": "code",
   "execution_count": 13,
   "id": "994bf0f6-53e5-420a-a816-3bbac8b35f87",
   "metadata": {},
   "outputs": [
    {
     "data": {
      "text/plain": [
       "-0.0118378f"
      ]
     },
     "execution_count": 13,
     "metadata": {},
     "output_type": "execute_result"
    }
   ],
   "source": [
    "data_f32[0]"
   ]
  },
  {
   "cell_type": "code",
   "execution_count": 14,
   "id": "bac43bda-3b8f-4273-a880-be9a58fd575a",
   "metadata": {},
   "outputs": [
    {
     "data": {
      "text/plain": [
       "-3213"
      ]
     },
     "execution_count": 14,
     "metadata": {},
     "output_type": "execute_result"
    }
   ],
   "source": [
    "data_i16[0]"
   ]
  },
  {
   "cell_type": "code",
   "execution_count": 15,
   "id": "6674a16c-ca9b-4781-96f7-dc505133ff80",
   "metadata": {},
   "outputs": [
    {
     "name": "stdout",
     "output_type": "stream",
     "text": [
      "-776\n",
      "-6042\n",
      "-1069\n",
      "1970\n",
      "-2066\n",
      "-8430\n",
      "3104\n",
      "-5832\n",
      "5227\n",
      "5029\n",
      "-6800\n",
      "4405\n",
      "1877\n",
      "2981\n",
      "1264\n",
      "-8450\n",
      "10831\n",
      "7784\n",
      "-8465\n",
      "-1229\n"
     ]
    }
   ],
   "source": [
    "for (int i=0; i<20; i++) {\n",
    "    float v = data_f32[i];\n",
    "    if (v < 0) {\n",
    "        data_i16[i] = (int) (-0.5 + v * (1 << weights_precision));\n",
    "    } else {\n",
    "        data_i16[i] = (int) (0.5 + v * (1 << weights_precision));\n",
    "    }    \n",
    "    std::cout << data_i16[i] << std::endl;\n",
    "}"
   ]
  },
  {
   "cell_type": "code",
   "execution_count": 25,
   "id": "ac084f78-dd32-4541-a35f-aa73107d2e05",
   "metadata": {},
   "outputs": [
    {
     "data": {
      "text/plain": [
       "4.9360000"
      ]
     },
     "execution_count": 25,
     "metadata": {},
     "output_type": "execute_result"
    }
   ],
   "source": [
    "1.234 * (1 << 2)"
   ]
  },
  {
   "cell_type": "code",
   "execution_count": 31,
   "id": "6a444241-5bbf-43c2-86d6-53652fd700b0",
   "metadata": {},
   "outputs": [
    {
     "name": "stdout",
     "output_type": "stream",
     "text": [
      "-0.0118408 -0.0118378\n",
      "-0.0921936 -0.0921955\n",
      "-0.0163116 -0.0163113\n",
      "0.0300598 0.0300537\n",
      "-0.0315247 -0.0315176\n",
      "-0.128632 -0.128625\n",
      "0.0473633 0.0473628\n",
      "-0.0889893 -0.0889887\n",
      "0.0797577 0.0797607\n",
      "0.0767365 0.0767411\n",
      "-0.10376 -0.103764\n",
      "0.067215 0.0672154\n",
      "0.0286407 0.0286361\n",
      "0.0454865 0.0454809\n",
      "0.0192871 0.0192807\n",
      "-0.128937 -0.128944\n",
      "0.165268 0.165265\n",
      "0.118774 0.118772\n",
      "-0.129166 -0.129173\n",
      "-0.0187531 -0.0187604\n"
     ]
    }
   ],
   "source": [
    "float * tt_f32 = tt.data_ptr<float>();\n",
    "\n",
    "for (int i=0; i<20; i++) {\n",
    "    short v = data_i16[i];\n",
    "    float w = tt_f32[i];\n",
    "    auto f32 = float(v) / (1 << weights_precision);\n",
    "    std::cout << f32 << \" \" << w << std::endl;\n",
    "}"
   ]
  },
  {
   "cell_type": "code",
   "execution_count": null,
   "id": "c00aac12-6e82-4630-8405-18359f103b05",
   "metadata": {},
   "outputs": [],
   "source": []
  },
  {
   "cell_type": "code",
   "execution_count": 32,
   "id": "3a6c02eb-5cfe-4767-b191-0ef905a16db6",
   "metadata": {},
   "outputs": [
    {
     "data": {
      "text/plain": [
       "0"
      ]
     },
     "execution_count": 32,
     "metadata": {},
     "output_type": "execute_result"
    }
   ],
   "source": [
    "short a = 0;\n",
    "a"
   ]
  },
  {
   "cell_type": "code",
   "execution_count": 33,
   "id": "1129a882-cd1a-4553-bac9-22e52dfe2bb1",
   "metadata": {},
   "outputs": [
    {
     "name": "stderr",
     "output_type": "stream",
     "text": [
      "input_line_58:2:8: warning: implicit conversion from 'int' to 'short' changes value from 32768 to -32768 [-Wconstant-conversion]\n",
      " a = 1 << 15;\n",
      "   ~ ~~^~~~~\n"
     ]
    },
    {
     "data": {
      "text/plain": [
       "-32768"
      ]
     },
     "execution_count": 33,
     "metadata": {},
     "output_type": "execute_result"
    }
   ],
   "source": [
    "a = 1 << 15;\n",
    "a"
   ]
  },
  {
   "cell_type": "code",
   "execution_count": 34,
   "id": "b279843d-3e5d-43ac-8b32-e01b1cf96abf",
   "metadata": {},
   "outputs": [],
   "source": [
    "unsigned short b = 1 << 15;"
   ]
  },
  {
   "cell_type": "code",
   "execution_count": 35,
   "id": "74889ec2-1370-491e-ab49-6c917a9f146b",
   "metadata": {},
   "outputs": [
    {
     "data": {
      "text/plain": [
       "32768"
      ]
     },
     "execution_count": 35,
     "metadata": {},
     "output_type": "execute_result"
    }
   ],
   "source": [
    "b"
   ]
  },
  {
   "cell_type": "code",
   "execution_count": null,
   "id": "1ec67532-1c17-4e35-be8d-6b0b870dc3f0",
   "metadata": {},
   "outputs": [],
   "source": []
  }
 ],
 "metadata": {
  "kernelspec": {
   "display_name": "C++14",
   "language": "C++14",
   "name": "xcpp14"
  },
  "language_info": {
   "codemirror_mode": "text/x-c++src",
   "file_extension": ".cpp",
   "mimetype": "text/x-c++src",
   "name": "c++",
   "version": "14"
  }
 },
 "nbformat": 4,
 "nbformat_minor": 5
}
